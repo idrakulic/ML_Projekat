{
  "cells": [
    {
      "cell_type": "code",
      "execution_count": null,
      "id": "c54ec030",
      "metadata": {
        "id": "c54ec030"
      },
      "outputs": [],
      "source": [
        "import gym\n",
        "import random\n",
        "import os\n",
        "import numpy as np\n",
        "from collections      import deque\n",
        "from keras.models     import Sequential, clone_model\n",
        "from keras.layers     import Dense, Convolution2D, Flatten\n",
        "from keras.optimizers import adam_v2\n",
        "import matplotlib.pyplot as plt\n",
        "from tqdm import tqdm\n",
        "from PIL import Image\n",
        "import json\n",
        "from copy import deepcopy\n",
        "from time import sleep\n",
        "from google.colab import files"
      ]
    },
    {
      "cell_type": "code",
      "execution_count": null,
      "id": "ccd070d0",
      "metadata": {
        "colab": {
          "base_uri": "https://localhost:8080/"
        },
        "id": "ccd070d0",
        "outputId": "1ff9379a-cbd1-4f41-af7b-b2bade1f458a"
      },
      "outputs": [
        {
          "output_type": "execute_result",
          "data": {
            "text/plain": [
              "[]"
            ]
          },
          "metadata": {},
          "execution_count": 2
        }
      ],
      "source": [
        "import tensorflow as tf\n",
        "# if gpu is to be used\n",
        "tf.config.list_physical_devices('GPU')"
      ]
    },
    {
      "cell_type": "code",
      "execution_count": null,
      "id": "e2bee0bf",
      "metadata": {
        "id": "e2bee0bf"
      },
      "outputs": [],
      "source": [
        "class Agent():\n",
        "    def __init__(self, state_size, action_size, cold_start=True, episode_goal=0, current_episode =0):\n",
        "        self.weight_backup = \"space_invaders_weight_batch_16_improved.h5\"\n",
        "        self.parameters_backup = \"space_invaders_parameters_batch_16_improved.json\"\n",
        "        self.scores_backup = \"scores_batch_16_improved.json\"\n",
        "            \n",
        "        self.current_episode = current_episode\n",
        "        self.goal_episode = current_episode + episode_goal\n",
        "        self.state_size = state_size\n",
        "        self.action_size = action_size\n",
        "        self.memory = deque(maxlen=10000)\n",
        "        self.learning_rate = 0.001\n",
        "        self.gamma = 0.95\n",
        "        self.exploration_rate = 1.0\n",
        "        self.exploration_min = 0.01\n",
        "        self.exploration_decay = 0.95\n",
        "\n",
        "        self.current_network = self._build_model()\n",
        "        if not cold_start:\n",
        "            net_to_load = \"episode_goal_\"+ str(current_episode) +\"_\" + self.weight_backup\n",
        "            parameters_to_load = \"episode_goal_\"+ str(current_episode) +\"_\" + self.parameters_backup\n",
        "            if os.path.isfile(net_to_load):\n",
        "                self.load_model(net_to_load)\n",
        "                # Trebalo bi sacuvati epsilon prilikom cuvanja modela kako bi mogli\n",
        "                # da rekonstruisemo epsilon prilikom ucitavanja modela i nastavaka obucavanja.\n",
        "                # Radi jednostavnosti, ovde cemo prosto pretpostaviti da model naucen\n",
        "                # tako da ima smisla postaviti epsilon na minimalno dopustenu vrednost\n",
        "                # (koju smo mi definisali prethodno).\n",
        "                # Trebalo bi dakle:\n",
        "                # self.exploration_rate = load_epsilon_from_file('train_info.json') ili nesto slicno\n",
        "                # Ali mi cemo postaviti self.exploration_min\n",
        "                self.load_parameters(parameters_to_load)\n",
        "            else:\n",
        "                print(\"Nema mreze!\")\n",
        "\n",
        "        self.target_network = clone_model(self.current_network)\n",
        "\n",
        "    def _build_model(self):\n",
        "        \"\"\"Builds a neural network for DQN to use.\"\"\"\n",
        "        model = Sequential()\n",
        "        model.add(Convolution2D(32, 9, strides=2, activation='relu',\n",
        "                         input_shape=self.state_size, data_format=\"channels_last\"))\n",
        "        model.add(Convolution2D(24, 7, strides=2, activation='relu'))\n",
        "        model.add(Convolution2D(16, 5, strides=2, activation='relu'))\n",
        "        model.add(Flatten())\n",
        "        model.add(Dense(512, activation='relu'))\n",
        "        model.add(Dense(128, activation='relu'))\n",
        "        model.add(Dense(self.action_size, activation='linear'))\n",
        "        model.compile(loss='mse', optimizer=adam_v2.Adam(learning_rate=self.learning_rate))\n",
        "        \n",
        "        print(model.summary())\n",
        "        \n",
        "        return model\n",
        "\n",
        "    def save_model(self, scores):\n",
        "        \"\"\"Saves the model weights to the path set in the object.\"\"\"\n",
        "        net_to_save = \"episode_goal_\"+ str(self.current_episode) +\"_\" + self.weight_backup\n",
        "        self.current_network.save(net_to_save)\n",
        "\n",
        "        if self.exploration_rate > self.exploration_min:\n",
        "            self.exploration_rate *= self.exploration_decay\n",
        "\n",
        "        self.save_parameters()\n",
        "        self.target_network = clone_model(self.current_network)\n",
        "        self.save_scores(scores)\n",
        "        sleep(5)\n",
        "        files.download(\"episode_goal_\"+ str(self.current_episode) +\"_\" + self.weight_backup)\n",
        "        files.download(\"episode_goal_\"+ str(self.current_episode) +\"_\" + self.parameters_backup)\n",
        "        files.download(\"episode_goal_\"+ str(self.current_episode) +\"_\" + self.scores_backup)\n",
        "\n",
        "    def load_model(self, net_to_load):\n",
        "        \"\"\"LOads the model weights from the path set in the object.\"\"\"\n",
        "        self.current_network.load_weights(net_to_load)\n",
        "\n",
        "    def save_parameters(self):\n",
        "        fajl = {}\n",
        "        fajl[\"exploration_rate\"] = self.exploration_rate\n",
        "        fajl[\"exploration_decay\"] = self.exploration_decay\n",
        "        fajl[\"exploration_min\"] = self.exploration_min\n",
        "        fajl[\"gamma\"] = self.gamma\n",
        "\n",
        "        parameters_to_save = \"episode_goal_\"+ str(self.current_episode) +\"_\" + self.parameters_backup\n",
        "\n",
        "        with open(parameters_to_save, \"w\") as f:\n",
        "            json.dump(fajl, f)\n",
        "          \n",
        "    def load_parameters(self, parameters_to_load):\n",
        "        with open(parameters_to_load, \"r\") as f:\n",
        "            fajl = json.load(f)\n",
        "\n",
        "        self.exploration_rate = fajl[\"exploration_rate\"]\n",
        "        self.exploration_decay = fajl[\"exploration_decay\"]\n",
        "        self.exploration_min = fajl[\"exploration_min\"]\n",
        "        self.gamma = fajl[\"gamma\"]\n",
        "\n",
        "    def save_scores(self, scores):\n",
        "        scores_to_save = \"episode_goal_\"+ str(self.current_episode) +\"_\" + self.scores_backup\n",
        "        with open(scores_to_save, \"w\") as f:\n",
        "            json.dump(scores,f)\n",
        "\n",
        "    def act(self, state):\n",
        "        \"\"\"Acts according to epsilon greedy policy.\"\"\"\n",
        "        if np.random.rand() <= self.exploration_rate:\n",
        "            return random.randrange(self.action_size)\n",
        "        act_values = self.target_network.predict(state)\n",
        "        return np.argmax(act_values[0])\n",
        "\n",
        "    # Cuvamo iskustvo u memoriji\n",
        "    def remember(self, state, action, reward, next_state, done):\n",
        "        \"\"\"Saves experience in memory.\"\"\"\n",
        "        self.memory.append((state, action, reward, next_state, done))\n",
        "\n",
        "    # Ucimo na osnovu informacija u memoriji\n",
        "    def learn(self, sample_batch_size):\n",
        "        if len(self.memory) < sample_batch_size:\n",
        "            return\n",
        "        sample_batch = random.sample(self.memory, sample_batch_size)\n",
        "\n",
        "        states =[]\n",
        "        q_values = []\n",
        "\n",
        "        for state, action, reward, next_state, done in sample_batch:\n",
        "\n",
        "            next_state_prediction = self.target_network.predict(next_state)\n",
        "            next_q_value = np.max(next_state_prediction)\n",
        "            q = self.current_network.predict(state)\n",
        "\n",
        "            target = reward\n",
        "            if not done:\n",
        "                target = reward + self.gamma * next_q_value\n",
        "            #target_f = self.network.predict(state)\n",
        "            q[0][action] = target\n",
        "\n",
        "            states.append(state)\n",
        "            q_values.append(q)\n",
        "\n",
        "        states = np.reshape(states, (sample_batch_size, 100,80,3))\n",
        "        q_values = np.reshape(q_values, (sample_batch_size, 6))\n",
        "\n",
        "        self.current_network.fit(states, q_values, epochs=1, verbose=0, batch_size=sample_batch_size) #batch_size=sample_batch_size//4,\n",
        "\n",
        "        # if self.exploration_rate > self.exploration_min:\n",
        "        #     self.exploration_rate *= self.exploration_decay\n",
        "\n",
        "        # if(update_target_network):\n",
        "        #     self.save_model()\n",
        "        #     self.save_parameters()\n",
        "        #     self.target_network = clone_model(self.current_network)\n"
      ]
    },
    {
      "cell_type": "code",
      "execution_count": null,
      "id": "eeace244",
      "metadata": {
        "id": "eeace244"
      },
      "outputs": [],
      "source": [
        "class SpaceInvaders:\n",
        "    def __init__(self, continue_training=False, episodes_to_train = 100, current_episode=0):\n",
        "        self.sample_batch_size = 128\n",
        "        self.steps_frequency_train = 32\n",
        "        self.episodes = episodes_to_train\n",
        "        self.env = gym.make('SpaceInvaders-v4')#, render_mode=\"human\")\n",
        "\n",
        "        #self.state_size = self.env.observation_space.shape\n",
        "        self.state_size = (100,80,3)\n",
        "        self.action_size = self.env.action_space.n\n",
        "        self.agent = Agent(self.state_size, self.action_size, cold_start= (not continue_training), current_episode= current_episode)\n",
        "        self.scores = []\n",
        "\n",
        "        if(continue_training):\n",
        "            self.scores = self.load_scores()\n",
        "\n",
        "    def load_model(self):\n",
        "        self.agent.load_model()\n",
        "        \n",
        "    def preprocess_image(self, img):\n",
        "        #print(\"Size of pure image: \", img.shape)\n",
        "        img_prep = img[:200,:]\n",
        "        #print(\"Size of cropped image: \", img_prep.shape)\n",
        "        thumbnail_size = img_prep.shape\n",
        "        thumbnail_size = (thumbnail_size[1]//2, thumbnail_size[0]//2)\n",
        "        img_prep = Image.fromarray(img_prep)\n",
        "        img_prep.thumbnail(thumbnail_size)\n",
        "        img_prep = np.asarray(img_prep)\n",
        "        #print(\"Size of thumbanil image: \", img_prep.shape)\n",
        "\n",
        "        return img_prep\n",
        "        \n",
        "    def load_scores(self):\n",
        "        scores_to_load = \"episode_goal_\"+ str(self.agent.current_episode) + \"_\" + self.agent.scores_backup\n",
        "        with open(scores_to_load, \"r\") as f:\n",
        "            scores_loaded = json.load(f)\n",
        "        \n",
        "        return scores_loaded\n",
        "        \n",
        "    def run_test(self):\n",
        "        state = self.env.reset()\n",
        "\n",
        "        #self.env.render()\n",
        "        done = False\n",
        "        score = 0\n",
        "\n",
        "        index = 0\n",
        "        while not done:\n",
        "            state = self.preprocess_image(state)\n",
        "            state = np.reshape(state, [1] + list(self.state_size))\n",
        "            action = self.agent.act(state)\n",
        "            next_state, reward, done, _ = self.env.step(action)\n",
        "            score  += reward\n",
        "            state = next_state\n",
        "            index += 1\n",
        "            #self.env.render()\n",
        "        print(f'Score: {score}')\n",
        "        self.env.close()\n",
        "        return score\n",
        "\n",
        "    def run_train(self):\n",
        "        \n",
        "        ispis = \"\"\n",
        "        for index_episode in tqdm(range(self.episodes)):\n",
        "            state = self.env.reset()\n",
        "            state = self.preprocess_image(state)\n",
        "            \n",
        "            state = np.reshape(state, [1] + list(self.state_size))\n",
        "\n",
        "            done = False\n",
        "            index = 0\n",
        "            lives = 3\n",
        "            score = 0\n",
        "            while not done:\n",
        "                # Uglavnom ne zelimo render tokom obucavanja\n",
        "                # jer drasticno usporava proces optimizacije.\n",
        "                # self.env.render()\n",
        "\n",
        "                # Pustamo agenta da uradi neku akciju.\n",
        "                action = self.agent.act(state)\n",
        "\n",
        "                # Azuriramo stanje okruzenja.\n",
        "                next_state, reward, done, info = self.env.step(action)\n",
        "                next_state = self.preprocess_image(next_state)\n",
        "                score += reward\n",
        "                if(info[\"lives\"]<lives):\n",
        "                    score -= 100\n",
        "                    lives -= 1\n",
        "                # Menjamo oblik vektora za stanje kako bi stanje kasnije\n",
        "                # mogli da propustimo kroz mrezu. Setite se, mreza prihvata\n",
        "                # podskup instanci kao prvu dimenziju, usled toga dodajemo\n",
        "                # jedinicu na pocetak - jer je ovo jedna instanca.\n",
        "                next_state = np.reshape(next_state, [1] + list(self.state_size))\n",
        "\n",
        "                # Cuvamo iskustvo.\n",
        "                self.agent.remember(state, action, reward, next_state, done)\n",
        "                state = next_state\n",
        "                index += 1\n",
        "\n",
        "                if(index%self.steps_frequency_train==0):\n",
        "                    self.agent.learn(self.sample_batch_size)\n",
        "\n",
        "\n",
        "            self.agent.current_episode+=1\n",
        "            # Ispis procesa obucavanja u konzoli.\n",
        "            # SAVET IZ PRAKSE:\n",
        "            # Nije lose povremeno ove informacije pisati u datoteku, ali treba biti\n",
        "            # pazljiv da se to ne radi stalno - nema smisla stalno pristupati disku\n",
        "            # radi upisa jedne linije. Predlog je pisati u datoteku na svakih k epizoda (npr. k=100).\n",
        "            \n",
        "            print(f'Episode {self.agent.current_episode}/{self.agent.goal_episode} ; Score: {score} ; Duzina epizode: {index}\\n')\n",
        "            # ispis +=f'Episode {index_episode+1}/{self.episodes} ; Score: {score} ; Duzina epizode: {index}\\n'\n",
        "            \n",
        "            # # if(index_episode % 10 == 0):\n",
        "            # #   print(ispis)\n",
        "            #   ispis = \"\"\n",
        "\n",
        "            # Belezimo nagradu koju je agent osvojio u epizodi.\n",
        "            self.scores.append(score)\n",
        "\n",
        "            # Pustamo agenta da uci.\n",
        "            if((index_episode+1)%5 == 0):\n",
        "                scores_to_store = deepcopy(self.scores)\n",
        "                self.agent.save_model(scores_to_store)\n",
        "\n",
        "            self.agent.learn(self.sample_batch_size)\n",
        "\n",
        "            # Primer: Ima smisla zaustaviti proces obucavanja ranije.\n",
        "            # Kako je maksimalna nagrada 500 u ovom okruzenju, ako nas\n",
        "            # agent u poslednjih 10 epizoda prosecno osvoji nagradu blizu\n",
        "            # maksimalnoj, reklo bi se da je optimizacioni proces blizu resenja,\n",
        "            # pa ima smisla tada zaustaviti trening.\n",
        "            # Ovo je prosta heuristika, postoje mnogo sofisticiraniji pristupi\n",
        "            # vodjenja optimizacije. Imajte u vidu da je DQN i delom nestabilan\n",
        "            # i ne mora nuzno da konvergira - setite se predavanja :)\n",
        "            \n",
        "            # if index_episode > 10:\n",
        "            #     last_10 = scores[-10:]\n",
        "            #     avg = sum(last_10) / 10\n",
        "            #     if avg > 490:\n",
        "            #         break\n",
        "\n",
        "        \n",
        "        # Kada se optimizacioni proces zavrsi, cuvamo tezine mreze.\n",
        "        #scores_to_store = deepcopy(self.scores)\n",
        "        #self.agent.save_model(scores_to_store)\n",
        "\n",
        "        # Vracamo istoriju treninga.\n",
        "        return self.scores"
      ]
    },
    {
      "cell_type": "code",
      "execution_count": null,
      "id": "dd812df9",
      "metadata": {
        "colab": {
          "base_uri": "https://localhost:8080/"
        },
        "id": "dd812df9",
        "outputId": "ae8c7965-d523-4fe2-cf89-dee00e90c695"
      },
      "outputs": [
        {
          "output_type": "stream",
          "name": "stdout",
          "text": [
            "Model: \"sequential_2\"\n",
            "_________________________________________________________________\n",
            " Layer (type)                Output Shape              Param #   \n",
            "=================================================================\n",
            " conv2d_6 (Conv2D)           (None, 46, 36, 32)        7808      \n",
            "                                                                 \n",
            " conv2d_7 (Conv2D)           (None, 20, 15, 24)        37656     \n",
            "                                                                 \n",
            " conv2d_8 (Conv2D)           (None, 8, 6, 16)          9616      \n",
            "                                                                 \n",
            " flatten_2 (Flatten)         (None, 768)               0         \n",
            "                                                                 \n",
            " dense_6 (Dense)             (None, 512)               393728    \n",
            "                                                                 \n",
            " dense_7 (Dense)             (None, 128)               65664     \n",
            "                                                                 \n",
            " dense_8 (Dense)             (None, 6)                 774       \n",
            "                                                                 \n",
            "=================================================================\n",
            "Total params: 515,246\n",
            "Trainable params: 515,246\n",
            "Non-trainable params: 0\n",
            "_________________________________________________________________\n",
            "None\n"
          ]
        }
      ],
      "source": [
        "game = SpaceInvaders(episodes_to_train=10,continue_training=True, current_episode=130)"
      ]
    },
    {
      "cell_type": "code",
      "execution_count": null,
      "id": "O3EE9ydiRw0J",
      "metadata": {
        "id": "O3EE9ydiRw0J"
      },
      "outputs": [],
      "source": [
        "#!pip install gym[atari] gym[accept-rom-license]\n",
        "#!pip install gym[accept-rom-license]"
      ]
    },
    {
      "cell_type": "code",
      "source": [
        "game.run_train()"
      ],
      "metadata": {
        "colab": {
          "base_uri": "https://localhost:8080/",
          "height": 1000
        },
        "id": "3TVZ3KQxgNzy",
        "outputId": "e134f578-b7d0-40c3-b5ed-a84d6b31093b"
      },
      "id": "3TVZ3KQxgNzy",
      "execution_count": null,
      "outputs": [
        {
          "output_type": "stream",
          "name": "stderr",
          "text": [
            "\r  0%|          | 0/10 [00:00<?, ?it/s]"
          ]
        },
        {
          "output_type": "stream",
          "name": "stdout",
          "text": [
            "Episode 131/130 ; Score: -165.0 ; Duzina epizode: 776\n",
            "\n"
          ]
        },
        {
          "output_type": "stream",
          "name": "stderr",
          "text": [
            "\r 10%|█         | 1/10 [05:38<50:46, 338.49s/it]"
          ]
        },
        {
          "output_type": "stream",
          "name": "stdout",
          "text": [
            "Episode 132/130 ; Score: -105.0 ; Duzina epizode: 801\n",
            "\n"
          ]
        },
        {
          "output_type": "stream",
          "name": "stderr",
          "text": [
            "\r 20%|██        | 2/10 [12:11<49:24, 370.57s/it]"
          ]
        },
        {
          "output_type": "stream",
          "name": "stdout",
          "text": [
            "Episode 133/130 ; Score: -60.0 ; Duzina epizode: 860\n",
            "\n"
          ]
        },
        {
          "output_type": "stream",
          "name": "stderr",
          "text": [
            "\r 30%|███       | 3/10 [19:00<45:15, 387.90s/it]"
          ]
        },
        {
          "output_type": "stream",
          "name": "stdout",
          "text": [
            "Episode 134/130 ; Score: -95.0 ; Duzina epizode: 825\n",
            "\n"
          ]
        },
        {
          "output_type": "stream",
          "name": "stderr",
          "text": [
            "\r 40%|████      | 4/10 [25:32<38:58, 389.70s/it]"
          ]
        },
        {
          "output_type": "stream",
          "name": "stdout",
          "text": [
            "Episode 135/130 ; Score: -190.0 ; Duzina epizode: 507\n",
            "\n"
          ]
        },
        {
          "output_type": "display_data",
          "data": {
            "text/plain": [
              "<IPython.core.display.Javascript object>"
            ],
            "application/javascript": [
              "\n",
              "    async function download(id, filename, size) {\n",
              "      if (!google.colab.kernel.accessAllowed) {\n",
              "        return;\n",
              "      }\n",
              "      const div = document.createElement('div');\n",
              "      const label = document.createElement('label');\n",
              "      label.textContent = `Downloading \"${filename}\": `;\n",
              "      div.appendChild(label);\n",
              "      const progress = document.createElement('progress');\n",
              "      progress.max = size;\n",
              "      div.appendChild(progress);\n",
              "      document.body.appendChild(div);\n",
              "\n",
              "      const buffers = [];\n",
              "      let downloaded = 0;\n",
              "\n",
              "      const channel = await google.colab.kernel.comms.open(id);\n",
              "      // Send a message to notify the kernel that we're ready.\n",
              "      channel.send({})\n",
              "\n",
              "      for await (const message of channel.messages) {\n",
              "        // Send a message to notify the kernel that we're ready.\n",
              "        channel.send({})\n",
              "        if (message.buffers) {\n",
              "          for (const buffer of message.buffers) {\n",
              "            buffers.push(buffer);\n",
              "            downloaded += buffer.byteLength;\n",
              "            progress.value = downloaded;\n",
              "          }\n",
              "        }\n",
              "      }\n",
              "      const blob = new Blob(buffers, {type: 'application/binary'});\n",
              "      const a = document.createElement('a');\n",
              "      a.href = window.URL.createObjectURL(blob);\n",
              "      a.download = filename;\n",
              "      div.appendChild(a);\n",
              "      a.click();\n",
              "      div.remove();\n",
              "    }\n",
              "  "
            ]
          },
          "metadata": {}
        },
        {
          "output_type": "display_data",
          "data": {
            "text/plain": [
              "<IPython.core.display.Javascript object>"
            ],
            "application/javascript": [
              "download(\"download_81d52f76-c2c6-4fd2-b795-f8dd1cf9637b\", \"episode_goal_135_space_invaders_weight_batch_16_improved.h5\", 6242400)"
            ]
          },
          "metadata": {}
        },
        {
          "output_type": "display_data",
          "data": {
            "text/plain": [
              "<IPython.core.display.Javascript object>"
            ],
            "application/javascript": [
              "\n",
              "    async function download(id, filename, size) {\n",
              "      if (!google.colab.kernel.accessAllowed) {\n",
              "        return;\n",
              "      }\n",
              "      const div = document.createElement('div');\n",
              "      const label = document.createElement('label');\n",
              "      label.textContent = `Downloading \"${filename}\": `;\n",
              "      div.appendChild(label);\n",
              "      const progress = document.createElement('progress');\n",
              "      progress.max = size;\n",
              "      div.appendChild(progress);\n",
              "      document.body.appendChild(div);\n",
              "\n",
              "      const buffers = [];\n",
              "      let downloaded = 0;\n",
              "\n",
              "      const channel = await google.colab.kernel.comms.open(id);\n",
              "      // Send a message to notify the kernel that we're ready.\n",
              "      channel.send({})\n",
              "\n",
              "      for await (const message of channel.messages) {\n",
              "        // Send a message to notify the kernel that we're ready.\n",
              "        channel.send({})\n",
              "        if (message.buffers) {\n",
              "          for (const buffer of message.buffers) {\n",
              "            buffers.push(buffer);\n",
              "            downloaded += buffer.byteLength;\n",
              "            progress.value = downloaded;\n",
              "          }\n",
              "        }\n",
              "      }\n",
              "      const blob = new Blob(buffers, {type: 'application/binary'});\n",
              "      const a = document.createElement('a');\n",
              "      a.href = window.URL.createObjectURL(blob);\n",
              "      a.download = filename;\n",
              "      div.appendChild(a);\n",
              "      a.click();\n",
              "      div.remove();\n",
              "    }\n",
              "  "
            ]
          },
          "metadata": {}
        },
        {
          "output_type": "display_data",
          "data": {
            "text/plain": [
              "<IPython.core.display.Javascript object>"
            ],
            "application/javascript": [
              "download(\"download_ea32518b-be5f-4bcb-96d4-a43da518d869\", \"episode_goal_135_space_invaders_parameters_batch_16_improved.json\", 107)"
            ]
          },
          "metadata": {}
        },
        {
          "output_type": "display_data",
          "data": {
            "text/plain": [
              "<IPython.core.display.Javascript object>"
            ],
            "application/javascript": [
              "\n",
              "    async function download(id, filename, size) {\n",
              "      if (!google.colab.kernel.accessAllowed) {\n",
              "        return;\n",
              "      }\n",
              "      const div = document.createElement('div');\n",
              "      const label = document.createElement('label');\n",
              "      label.textContent = `Downloading \"${filename}\": `;\n",
              "      div.appendChild(label);\n",
              "      const progress = document.createElement('progress');\n",
              "      progress.max = size;\n",
              "      div.appendChild(progress);\n",
              "      document.body.appendChild(div);\n",
              "\n",
              "      const buffers = [];\n",
              "      let downloaded = 0;\n",
              "\n",
              "      const channel = await google.colab.kernel.comms.open(id);\n",
              "      // Send a message to notify the kernel that we're ready.\n",
              "      channel.send({})\n",
              "\n",
              "      for await (const message of channel.messages) {\n",
              "        // Send a message to notify the kernel that we're ready.\n",
              "        channel.send({})\n",
              "        if (message.buffers) {\n",
              "          for (const buffer of message.buffers) {\n",
              "            buffers.push(buffer);\n",
              "            downloaded += buffer.byteLength;\n",
              "            progress.value = downloaded;\n",
              "          }\n",
              "        }\n",
              "      }\n",
              "      const blob = new Blob(buffers, {type: 'application/binary'});\n",
              "      const a = document.createElement('a');\n",
              "      a.href = window.URL.createObjectURL(blob);\n",
              "      a.download = filename;\n",
              "      div.appendChild(a);\n",
              "      a.click();\n",
              "      div.remove();\n",
              "    }\n",
              "  "
            ]
          },
          "metadata": {}
        },
        {
          "output_type": "display_data",
          "data": {
            "text/plain": [
              "<IPython.core.display.Javascript object>"
            ],
            "application/javascript": [
              "download(\"download_db98b3d4-22ef-460b-bcfd-17df8accb59a\", \"episode_goal_135_scores_batch_16_improved.json\", 1025)"
            ]
          },
          "metadata": {}
        },
        {
          "output_type": "stream",
          "name": "stderr",
          "text": [
            "\r 50%|█████     | 5/10 [29:39<28:12, 338.40s/it]"
          ]
        },
        {
          "output_type": "stream",
          "name": "stdout",
          "text": [
            "Episode 136/130 ; Score: -70.0 ; Duzina epizode: 844\n",
            "\n"
          ]
        },
        {
          "output_type": "stream",
          "name": "stderr",
          "text": [
            "\r 60%|██████    | 6/10 [37:18<25:17, 379.35s/it]"
          ]
        },
        {
          "output_type": "stream",
          "name": "stdout",
          "text": [
            "Episode 137/130 ; Score: -70.0 ; Duzina epizode: 1174\n",
            "\n"
          ]
        },
        {
          "output_type": "stream",
          "name": "stderr",
          "text": [
            "\r 70%|███████   | 7/10 [47:59<23:14, 464.88s/it]"
          ]
        },
        {
          "output_type": "stream",
          "name": "stdout",
          "text": [
            "Episode 138/130 ; Score: -135.0 ; Duzina epizode: 670\n",
            "\n"
          ]
        },
        {
          "output_type": "stream",
          "name": "stderr",
          "text": [
            "\r 80%|████████  | 8/10 [53:33<14:06, 423.21s/it]"
          ]
        },
        {
          "output_type": "stream",
          "name": "stdout",
          "text": [
            "Episode 139/130 ; Score: 20.0 ; Duzina epizode: 942\n",
            "\n"
          ]
        },
        {
          "output_type": "stream",
          "name": "stderr",
          "text": [
            "\r 90%|█████████ | 9/10 [1:01:18<07:16, 436.19s/it]"
          ]
        },
        {
          "output_type": "stream",
          "name": "stdout",
          "text": [
            "Episode 140/130 ; Score: -70.0 ; Duzina epizode: 1189\n",
            "\n"
          ]
        },
        {
          "output_type": "display_data",
          "data": {
            "text/plain": [
              "<IPython.core.display.Javascript object>"
            ],
            "application/javascript": [
              "\n",
              "    async function download(id, filename, size) {\n",
              "      if (!google.colab.kernel.accessAllowed) {\n",
              "        return;\n",
              "      }\n",
              "      const div = document.createElement('div');\n",
              "      const label = document.createElement('label');\n",
              "      label.textContent = `Downloading \"${filename}\": `;\n",
              "      div.appendChild(label);\n",
              "      const progress = document.createElement('progress');\n",
              "      progress.max = size;\n",
              "      div.appendChild(progress);\n",
              "      document.body.appendChild(div);\n",
              "\n",
              "      const buffers = [];\n",
              "      let downloaded = 0;\n",
              "\n",
              "      const channel = await google.colab.kernel.comms.open(id);\n",
              "      // Send a message to notify the kernel that we're ready.\n",
              "      channel.send({})\n",
              "\n",
              "      for await (const message of channel.messages) {\n",
              "        // Send a message to notify the kernel that we're ready.\n",
              "        channel.send({})\n",
              "        if (message.buffers) {\n",
              "          for (const buffer of message.buffers) {\n",
              "            buffers.push(buffer);\n",
              "            downloaded += buffer.byteLength;\n",
              "            progress.value = downloaded;\n",
              "          }\n",
              "        }\n",
              "      }\n",
              "      const blob = new Blob(buffers, {type: 'application/binary'});\n",
              "      const a = document.createElement('a');\n",
              "      a.href = window.URL.createObjectURL(blob);\n",
              "      a.download = filename;\n",
              "      div.appendChild(a);\n",
              "      a.click();\n",
              "      div.remove();\n",
              "    }\n",
              "  "
            ]
          },
          "metadata": {}
        },
        {
          "output_type": "display_data",
          "data": {
            "text/plain": [
              "<IPython.core.display.Javascript object>"
            ],
            "application/javascript": [
              "download(\"download_d5e35c2c-fa12-4551-88f3-6f16579626ad\", \"episode_goal_140_space_invaders_weight_batch_16_improved.h5\", 6242400)"
            ]
          },
          "metadata": {}
        },
        {
          "output_type": "display_data",
          "data": {
            "text/plain": [
              "<IPython.core.display.Javascript object>"
            ],
            "application/javascript": [
              "\n",
              "    async function download(id, filename, size) {\n",
              "      if (!google.colab.kernel.accessAllowed) {\n",
              "        return;\n",
              "      }\n",
              "      const div = document.createElement('div');\n",
              "      const label = document.createElement('label');\n",
              "      label.textContent = `Downloading \"${filename}\": `;\n",
              "      div.appendChild(label);\n",
              "      const progress = document.createElement('progress');\n",
              "      progress.max = size;\n",
              "      div.appendChild(progress);\n",
              "      document.body.appendChild(div);\n",
              "\n",
              "      const buffers = [];\n",
              "      let downloaded = 0;\n",
              "\n",
              "      const channel = await google.colab.kernel.comms.open(id);\n",
              "      // Send a message to notify the kernel that we're ready.\n",
              "      channel.send({})\n",
              "\n",
              "      for await (const message of channel.messages) {\n",
              "        // Send a message to notify the kernel that we're ready.\n",
              "        channel.send({})\n",
              "        if (message.buffers) {\n",
              "          for (const buffer of message.buffers) {\n",
              "            buffers.push(buffer);\n",
              "            downloaded += buffer.byteLength;\n",
              "            progress.value = downloaded;\n",
              "          }\n",
              "        }\n",
              "      }\n",
              "      const blob = new Blob(buffers, {type: 'application/binary'});\n",
              "      const a = document.createElement('a');\n",
              "      a.href = window.URL.createObjectURL(blob);\n",
              "      a.download = filename;\n",
              "      div.appendChild(a);\n",
              "      a.click();\n",
              "      div.remove();\n",
              "    }\n",
              "  "
            ]
          },
          "metadata": {}
        },
        {
          "output_type": "display_data",
          "data": {
            "text/plain": [
              "<IPython.core.display.Javascript object>"
            ],
            "application/javascript": [
              "download(\"download_c8f20ab0-aba5-4a8a-9cd4-24d5d5dfd6d9\", \"episode_goal_140_space_invaders_parameters_batch_16_improved.json\", 108)"
            ]
          },
          "metadata": {}
        },
        {
          "output_type": "display_data",
          "data": {
            "text/plain": [
              "<IPython.core.display.Javascript object>"
            ],
            "application/javascript": [
              "\n",
              "    async function download(id, filename, size) {\n",
              "      if (!google.colab.kernel.accessAllowed) {\n",
              "        return;\n",
              "      }\n",
              "      const div = document.createElement('div');\n",
              "      const label = document.createElement('label');\n",
              "      label.textContent = `Downloading \"${filename}\": `;\n",
              "      div.appendChild(label);\n",
              "      const progress = document.createElement('progress');\n",
              "      progress.max = size;\n",
              "      div.appendChild(progress);\n",
              "      document.body.appendChild(div);\n",
              "\n",
              "      const buffers = [];\n",
              "      let downloaded = 0;\n",
              "\n",
              "      const channel = await google.colab.kernel.comms.open(id);\n",
              "      // Send a message to notify the kernel that we're ready.\n",
              "      channel.send({})\n",
              "\n",
              "      for await (const message of channel.messages) {\n",
              "        // Send a message to notify the kernel that we're ready.\n",
              "        channel.send({})\n",
              "        if (message.buffers) {\n",
              "          for (const buffer of message.buffers) {\n",
              "            buffers.push(buffer);\n",
              "            downloaded += buffer.byteLength;\n",
              "            progress.value = downloaded;\n",
              "          }\n",
              "        }\n",
              "      }\n",
              "      const blob = new Blob(buffers, {type: 'application/binary'});\n",
              "      const a = document.createElement('a');\n",
              "      a.href = window.URL.createObjectURL(blob);\n",
              "      a.download = filename;\n",
              "      div.appendChild(a);\n",
              "      a.click();\n",
              "      div.remove();\n",
              "    }\n",
              "  "
            ]
          },
          "metadata": {}
        },
        {
          "output_type": "display_data",
          "data": {
            "text/plain": [
              "<IPython.core.display.Javascript object>"
            ],
            "application/javascript": [
              "download(\"download_edb462f6-b676-4feb-a8f9-740e5bf41e70\", \"episode_goal_140_scores_batch_16_improved.json\", 1060)"
            ]
          },
          "metadata": {}
        },
        {
          "output_type": "stream",
          "name": "stderr",
          "text": [
            "100%|██████████| 10/10 [1:11:34<00:00, 429.45s/it]\n"
          ]
        },
        {
          "output_type": "execute_result",
          "data": {
            "text/plain": [
              "[20.0,\n",
              " -195.0,\n",
              " -35.0,\n",
              " -180.0,\n",
              " -235.0,\n",
              " -145.0,\n",
              " -210.0,\n",
              " -165.0,\n",
              " -190.0,\n",
              " -90.0,\n",
              " -115.0,\n",
              " -210.0,\n",
              " -265.0,\n",
              " -85.0,\n",
              " -250.0,\n",
              " -145.0,\n",
              " -135.0,\n",
              " -165.0,\n",
              " -125.0,\n",
              " -180.0,\n",
              " -90.0,\n",
              " -180.0,\n",
              " -120.0,\n",
              " -90.0,\n",
              " -120.0,\n",
              " -205.0,\n",
              " -175.0,\n",
              " -245.0,\n",
              " -110.0,\n",
              " -255.0,\n",
              " -145.0,\n",
              " 140.0,\n",
              " -145.0,\n",
              " 110.0,\n",
              " -90.0,\n",
              " -210.0,\n",
              " -270.0,\n",
              " -5.0,\n",
              " -260.0,\n",
              " -205.0,\n",
              " -200.0,\n",
              " -220.0,\n",
              " -130.0,\n",
              " 10.0,\n",
              " 45.0,\n",
              " -225.0,\n",
              " 120.0,\n",
              " -125.0,\n",
              " -235.0,\n",
              " -45.0,\n",
              " -225.0,\n",
              " -285.0,\n",
              " -175.0,\n",
              " -285.0,\n",
              " -55.0,\n",
              " -145.0,\n",
              " -245.0,\n",
              " -190.0,\n",
              " -165.0,\n",
              " -145.0,\n",
              " -70.0,\n",
              " -190.0,\n",
              " -65.0,\n",
              " -90.0,\n",
              " 185.0,\n",
              " -165.0,\n",
              " -120.0,\n",
              " -145.0,\n",
              " -180.0,\n",
              " -95.0,\n",
              " -150.0,\n",
              " -195.0,\n",
              " -90.0,\n",
              " 140.0,\n",
              " -145.0,\n",
              " -115.0,\n",
              " -225.0,\n",
              " -50.0,\n",
              " -130.0,\n",
              " -170.0,\n",
              " -140.0,\n",
              " -205.0,\n",
              " 30.0,\n",
              " 25.0,\n",
              " -260.0,\n",
              " -90.0,\n",
              " -60.0,\n",
              " 110.0,\n",
              " -145.0,\n",
              " -120.0,\n",
              " 135.0,\n",
              " -180.0,\n",
              " -250.0,\n",
              " 195.0,\n",
              " 20.0,\n",
              " -130.0,\n",
              " -220.0,\n",
              " -10.0,\n",
              " -195.0,\n",
              " -200.0,\n",
              " -165.0,\n",
              " -120.0,\n",
              " -195.0,\n",
              " -120.0,\n",
              " -145.0,\n",
              " -60.0,\n",
              " -250.0,\n",
              " -245.0,\n",
              " -60.0,\n",
              " -150.0,\n",
              " -100.0,\n",
              " -260.0,\n",
              " -80.0,\n",
              " -145.0,\n",
              " 135.0,\n",
              " -15.0,\n",
              " -155.0,\n",
              " -40.0,\n",
              " -145.0,\n",
              " -180.0,\n",
              " -30.0,\n",
              " -90.0,\n",
              " -15.0,\n",
              " -120.0,\n",
              " -90.0,\n",
              " 35.0,\n",
              " 45.0,\n",
              " -180.0,\n",
              " -180.0,\n",
              " -145.0,\n",
              " -165.0,\n",
              " -105.0,\n",
              " -60.0,\n",
              " -95.0,\n",
              " -190.0,\n",
              " -70.0,\n",
              " -70.0,\n",
              " -135.0,\n",
              " 20.0,\n",
              " -70.0]"
            ]
          },
          "metadata": {},
          "execution_count": 15
        }
      ]
    },
    {
      "cell_type": "code",
      "source": [
        "\n",
        "sleep(120)"
      ],
      "metadata": {
        "id": "ZyluHc0-kDvY"
      },
      "id": "ZyluHc0-kDvY",
      "execution_count": null,
      "outputs": []
    },
    {
      "cell_type": "code",
      "source": [
        "game = SpaceInvaders(episodes_to_train=10,continue_training=True, current_episode=90)"
      ],
      "metadata": {
        "id": "KavCI4nggxSG",
        "colab": {
          "base_uri": "https://localhost:8080/"
        },
        "outputId": "9e35e715-d114-44fd-8171-353fd8182fb0"
      },
      "id": "KavCI4nggxSG",
      "execution_count": null,
      "outputs": [
        {
          "output_type": "stream",
          "name": "stdout",
          "text": [
            "Model: \"sequential_9\"\n",
            "_________________________________________________________________\n",
            " Layer (type)                Output Shape              Param #   \n",
            "=================================================================\n",
            " conv2d_27 (Conv2D)          (None, 46, 36, 32)        7808      \n",
            "                                                                 \n",
            " conv2d_28 (Conv2D)          (None, 20, 15, 24)        37656     \n",
            "                                                                 \n",
            " conv2d_29 (Conv2D)          (None, 8, 6, 16)          9616      \n",
            "                                                                 \n",
            " flatten_9 (Flatten)         (None, 768)               0         \n",
            "                                                                 \n",
            " dense_27 (Dense)            (None, 512)               393728    \n",
            "                                                                 \n",
            " dense_28 (Dense)            (None, 128)               65664     \n",
            "                                                                 \n",
            " dense_29 (Dense)            (None, 6)                 774       \n",
            "                                                                 \n",
            "=================================================================\n",
            "Total params: 515,246\n",
            "Trainable params: 515,246\n",
            "Non-trainable params: 0\n",
            "_________________________________________________________________\n",
            "None\n"
          ]
        }
      ]
    },
    {
      "cell_type": "code",
      "source": [],
      "metadata": {
        "id": "xP0cOIjtkDAG"
      },
      "id": "xP0cOIjtkDAG",
      "execution_count": null,
      "outputs": []
    },
    {
      "cell_type": "code",
      "source": [
        "game.run_train()"
      ],
      "metadata": {
        "colab": {
          "base_uri": "https://localhost:8080/",
          "height": 399
        },
        "id": "zFrq_eSMkOBR",
        "outputId": "60d1db16-a104-4b93-b1ca-7f8d7970624f"
      },
      "id": "zFrq_eSMkOBR",
      "execution_count": null,
      "outputs": [
        {
          "metadata": {
            "tags": null
          },
          "name": "stderr",
          "output_type": "stream",
          "text": [
            "\r  0%|          | 0/10 [00:00<?, ?it/s]"
          ]
        },
        {
          "metadata": {
            "tags": null
          },
          "name": "stdout",
          "output_type": "stream",
          "text": [
            "Episode 91/90 ; Score: -55.0 ; Duzina epizode: 705\n",
            "\n"
          ]
        },
        {
          "metadata": {
            "tags": null
          },
          "name": "stderr",
          "output_type": "stream",
          "text": [
            "\r 10%|█         | 1/10 [04:07<37:05, 247.32s/it]"
          ]
        },
        {
          "metadata": {
            "tags": null
          },
          "name": "stdout",
          "output_type": "stream",
          "text": [
            "Episode 92/90 ; Score: -60.0 ; Duzina epizode: 873\n",
            "\n"
          ]
        },
        {
          "metadata": {
            "tags": null
          },
          "name": "stderr",
          "output_type": "stream",
          "text": [
            "\r 20%|██        | 2/10 [09:10<37:22, 280.36s/it]"
          ]
        },
        {
          "metadata": {
            "tags": null
          },
          "name": "stdout",
          "output_type": "stream",
          "text": [
            "Episode 93/90 ; Score: 325.0 ; Duzina epizode: 1315\n",
            "\n"
          ]
        },
        {
          "metadata": {
            "tags": null
          },
          "name": "stderr",
          "output_type": "stream",
          "text": [
            "\r 30%|███       | 3/10 [16:42<41:48, 358.42s/it]"
          ]
        },
        {
          "metadata": {
            "tags": null
          },
          "name": "stdout",
          "output_type": "stream",
          "text": [
            "Episode 94/90 ; Score: -140.0 ; Duzina epizode: 668\n",
            "\n"
          ]
        },
        {
          "metadata": {
            "tags": null
          },
          "name": "stderr",
          "output_type": "stream",
          "text": [
            "\r 40%|████      | 4/10 [20:32<30:46, 307.76s/it]"
          ]
        },
        {
          "metadata": {
            "tags": null
          },
          "name": "stdout",
          "output_type": "stream",
          "text": [
            "Episode 95/90 ; Score: -260.0 ; Duzina epizode: 345\n",
            "\n"
          ]
        },
        {
          "data": {
            "application/javascript": [
              "\n",
              "    async function download(id, filename, size) {\n",
              "      if (!google.colab.kernel.accessAllowed) {\n",
              "        return;\n",
              "      }\n",
              "      const div = document.createElement('div');\n",
              "      const label = document.createElement('label');\n",
              "      label.textContent = `Downloading \"${filename}\": `;\n",
              "      div.appendChild(label);\n",
              "      const progress = document.createElement('progress');\n",
              "      progress.max = size;\n",
              "      div.appendChild(progress);\n",
              "      document.body.appendChild(div);\n",
              "\n",
              "      const buffers = [];\n",
              "      let downloaded = 0;\n",
              "\n",
              "      const channel = await google.colab.kernel.comms.open(id);\n",
              "      // Send a message to notify the kernel that we're ready.\n",
              "      channel.send({})\n",
              "\n",
              "      for await (const message of channel.messages) {\n",
              "        // Send a message to notify the kernel that we're ready.\n",
              "        channel.send({})\n",
              "        if (message.buffers) {\n",
              "          for (const buffer of message.buffers) {\n",
              "            buffers.push(buffer);\n",
              "            downloaded += buffer.byteLength;\n",
              "            progress.value = downloaded;\n",
              "          }\n",
              "        }\n",
              "      }\n",
              "      const blob = new Blob(buffers, {type: 'application/binary'});\n",
              "      const a = document.createElement('a');\n",
              "      a.href = window.URL.createObjectURL(blob);\n",
              "      a.download = filename;\n",
              "      div.appendChild(a);\n",
              "      a.click();\n",
              "      div.remove();\n",
              "    }\n",
              "  "
            ],
            "text/plain": [
              "<IPython.core.display.Javascript object>"
            ]
          },
          "metadata": {},
          "output_type": "display_data"
        },
        {
          "data": {
            "application/javascript": [
              "download(\"download_dc5f23a0-32de-455a-a60c-2a0c5024c320\", \"episode_goal_95_space_invaders_weight_batch_16_improved.h5\", 6242280)"
            ],
            "text/plain": [
              "<IPython.core.display.Javascript object>"
            ]
          },
          "metadata": {},
          "output_type": "display_data"
        },
        {
          "data": {
            "application/javascript": [
              "\n",
              "    async function download(id, filename, size) {\n",
              "      if (!google.colab.kernel.accessAllowed) {\n",
              "        return;\n",
              "      }\n",
              "      const div = document.createElement('div');\n",
              "      const label = document.createElement('label');\n",
              "      label.textContent = `Downloading \"${filename}\": `;\n",
              "      div.appendChild(label);\n",
              "      const progress = document.createElement('progress');\n",
              "      progress.max = size;\n",
              "      div.appendChild(progress);\n",
              "      document.body.appendChild(div);\n",
              "\n",
              "      const buffers = [];\n",
              "      let downloaded = 0;\n",
              "\n",
              "      const channel = await google.colab.kernel.comms.open(id);\n",
              "      // Send a message to notify the kernel that we're ready.\n",
              "      channel.send({})\n",
              "\n",
              "      for await (const message of channel.messages) {\n",
              "        // Send a message to notify the kernel that we're ready.\n",
              "        channel.send({})\n",
              "        if (message.buffers) {\n",
              "          for (const buffer of message.buffers) {\n",
              "            buffers.push(buffer);\n",
              "            downloaded += buffer.byteLength;\n",
              "            progress.value = downloaded;\n",
              "          }\n",
              "        }\n",
              "      }\n",
              "      const blob = new Blob(buffers, {type: 'application/binary'});\n",
              "      const a = document.createElement('a');\n",
              "      a.href = window.URL.createObjectURL(blob);\n",
              "      a.download = filename;\n",
              "      div.appendChild(a);\n",
              "      a.click();\n",
              "      div.remove();\n",
              "    }\n",
              "  "
            ],
            "text/plain": [
              "<IPython.core.display.Javascript object>"
            ]
          },
          "metadata": {},
          "output_type": "display_data"
        },
        {
          "data": {
            "application/javascript": [
              "download(\"download_f6ec7693-9065-4ccd-b5d3-f89869594bdd\", \"episode_goal_95_space_invaders_parameters_batch_16_improved.json\", 107)"
            ],
            "text/plain": [
              "<IPython.core.display.Javascript object>"
            ]
          },
          "metadata": {},
          "output_type": "display_data"
        },
        {
          "data": {
            "application/javascript": [
              "\n",
              "    async function download(id, filename, size) {\n",
              "      if (!google.colab.kernel.accessAllowed) {\n",
              "        return;\n",
              "      }\n",
              "      const div = document.createElement('div');\n",
              "      const label = document.createElement('label');\n",
              "      label.textContent = `Downloading \"${filename}\": `;\n",
              "      div.appendChild(label);\n",
              "      const progress = document.createElement('progress');\n",
              "      progress.max = size;\n",
              "      div.appendChild(progress);\n",
              "      document.body.appendChild(div);\n",
              "\n",
              "      const buffers = [];\n",
              "      let downloaded = 0;\n",
              "\n",
              "      const channel = await google.colab.kernel.comms.open(id);\n",
              "      // Send a message to notify the kernel that we're ready.\n",
              "      channel.send({})\n",
              "\n",
              "      for await (const message of channel.messages) {\n",
              "        // Send a message to notify the kernel that we're ready.\n",
              "        channel.send({})\n",
              "        if (message.buffers) {\n",
              "          for (const buffer of message.buffers) {\n",
              "            buffers.push(buffer);\n",
              "            downloaded += buffer.byteLength;\n",
              "            progress.value = downloaded;\n",
              "          }\n",
              "        }\n",
              "      }\n",
              "      const blob = new Blob(buffers, {type: 'application/binary'});\n",
              "      const a = document.createElement('a');\n",
              "      a.href = window.URL.createObjectURL(blob);\n",
              "      a.download = filename;\n",
              "      div.appendChild(a);\n",
              "      a.click();\n",
              "      div.remove();\n",
              "    }\n",
              "  "
            ],
            "text/plain": [
              "<IPython.core.display.Javascript object>"
            ]
          },
          "metadata": {},
          "output_type": "display_data"
        },
        {
          "data": {
            "application/javascript": [
              "download(\"download_febcd16c-7d92-4959-84ad-35c72fead23f\", \"episode_goal_95_scores_batch_16_improved.json\", 723)"
            ],
            "text/plain": [
              "<IPython.core.display.Javascript object>"
            ]
          },
          "metadata": {},
          "output_type": "display_data"
        },
        {
          "metadata": {
            "tags": null
          },
          "name": "stderr",
          "output_type": "stream",
          "text": [
            "\r 50%|█████     | 5/10 [22:37<20:09, 241.89s/it]"
          ]
        },
        {
          "metadata": {
            "tags": null
          },
          "name": "stdout",
          "output_type": "stream",
          "text": [
            "Episode 96/90 ; Score: -165.0 ; Duzina epizode: 845\n",
            "\n"
          ]
        },
        {
          "metadata": {
            "tags": null
          },
          "name": "stderr",
          "output_type": "stream",
          "text": [
            "\r 60%|██████    | 6/10 [27:27<17:13, 258.46s/it]"
          ]
        },
        {
          "metadata": {
            "tags": null
          },
          "name": "stdout",
          "output_type": "stream",
          "text": [
            "Episode 97/90 ; Score: -100.0 ; Duzina epizode: 857\n",
            "\n"
          ]
        },
        {
          "metadata": {
            "tags": null
          },
          "name": "stderr",
          "output_type": "stream",
          "text": [
            "\r 70%|███████   | 7/10 [32:24<13:33, 271.06s/it]"
          ]
        },
        {
          "output_type": "stream",
          "name": "stdout",
          "text": [
            "Episode 98/90 ; Score: -90.0 ; Duzina epizode: 842\n",
            "\n"
          ]
        },
        {
          "output_type": "stream",
          "name": "stderr",
          "text": [
            "\r 80%|████████  | 8/10 [37:14<09:13, 276.88s/it]"
          ]
        },
        {
          "output_type": "stream",
          "name": "stdout",
          "text": [
            "Episode 99/90 ; Score: -195.0 ; Duzina epizode: 634\n",
            "\n"
          ]
        },
        {
          "output_type": "stream",
          "name": "stderr",
          "text": [
            "\r 90%|█████████ | 9/10 [40:52<04:18, 258.46s/it]"
          ]
        }
      ]
    },
    {
      "cell_type": "code",
      "source": [
        "scores = []\n",
        "\n",
        "for i in range(20):\n",
        "    scores.append(game.run_test())"
      ],
      "metadata": {
        "colab": {
          "base_uri": "https://localhost:8080/"
        },
        "id": "PyFNs8sueJMu",
        "outputId": "f3103cdd-3374-43fe-8df2-64d4392b46de"
      },
      "id": "PyFNs8sueJMu",
      "execution_count": null,
      "outputs": [
        {
          "output_type": "stream",
          "name": "stdout",
          "text": [
            "Score: 150.0\n",
            "Score: 15.0\n",
            "Score: 275.0\n",
            "Score: 145.0\n",
            "Score: 140.0\n",
            "Score: 105.0\n",
            "Score: 130.0\n",
            "Score: 110.0\n",
            "Score: 110.0\n",
            "Score: 300.0\n",
            "Score: 325.0\n",
            "Score: 110.0\n",
            "Score: 60.0\n",
            "Score: 20.0\n",
            "Score: 260.0\n",
            "Score: 90.0\n",
            "Score: 110.0\n",
            "Score: 145.0\n",
            "Score: 350.0\n",
            "Score: 60.0\n"
          ]
        }
      ]
    },
    {
      "cell_type": "code",
      "source": [
        "scores = [150, 15, 275, 145, 140, 105, 130, 110, 110, 300, 325, 110, 145, 350, 60]"
      ],
      "metadata": {
        "id": "1KzCfQ1wfXqN"
      },
      "id": "1KzCfQ1wfXqN",
      "execution_count": null,
      "outputs": []
    },
    {
      "cell_type": "code",
      "source": [
        "print(np.mean(scores))\n",
        "print(np.std(scores))"
      ],
      "metadata": {
        "colab": {
          "base_uri": "https://localhost:8080/"
        },
        "id": "I816xgUTewbr",
        "outputId": "9e0335c1-3e7f-4cc6-f57c-09723cff4838"
      },
      "id": "I816xgUTewbr",
      "execution_count": null,
      "outputs": [
        {
          "output_type": "stream",
          "name": "stdout",
          "text": [
            "164.66666666666666\n",
            "96.34083015811912\n"
          ]
        }
      ]
    },
    {
      "cell_type": "code",
      "source": [
        "plt.hist(scores)"
      ],
      "metadata": {
        "colab": {
          "base_uri": "https://localhost:8080/",
          "height": 334
        },
        "id": "YktaOaLAfBO1",
        "outputId": "62cbabb5-971c-4f93-f79a-90f6b691b089"
      },
      "id": "YktaOaLAfBO1",
      "execution_count": null,
      "outputs": [
        {
          "output_type": "execute_result",
          "data": {
            "text/plain": [
              "(array([1., 1., 4., 4., 1., 0., 0., 1., 1., 2.]),\n",
              " array([ 15. ,  48.5,  82. , 115.5, 149. , 182.5, 216. , 249.5, 283. ,\n",
              "        316.5, 350. ]),\n",
              " <a list of 10 Patch objects>)"
            ]
          },
          "metadata": {},
          "execution_count": 45
        },
        {
          "output_type": "display_data",
          "data": {
            "text/plain": [
              "<Figure size 432x288 with 1 Axes>"
            ],
            "image/png": "[encoded data removed]"
          },
          "metadata": {
            "needs_background": "light"
          }
        }
      ]
    },
    {
      "cell_type": "markdown",
      "source": [],
      "metadata": {
        "id": "qy07SUa8-olX"
      },
      "id": "qy07SUa8-olX"
    },
    {
      "cell_type": "code",
      "execution_count": null,
      "id": "ba68ca82",
      "metadata": {
        "colab": {
          "base_uri": "https://localhost:8080/",
          "height": 1000
        },
        "id": "ba68ca82",
        "outputId": "1f45804e-f8c5-4909-8527-dd1378d45486"
      },
      "outputs": [
        {
          "output_type": "stream",
          "name": "stderr",
          "text": [
            "\r  0%|          | 0/20 [00:00<?, ?it/s]/usr/local/lib/python3.7/dist-packages/gym/utils/passive_env_checker.py:228: DeprecationWarning: \u001b[33mWARN: Core environment is written in old step API which returns one bool instead of two. It is recommended to rewrite the environment with new step API. \u001b[0m\n",
            "  \"Core environment is written in old step API which returns one bool instead of two. \"\n"
          ]
        },
        {
          "output_type": "stream",
          "name": "stdout",
          "text": [
            "Episode 61/60 ; Score: -70.0 ; Duzina epizode: 696\n",
            "\n"
          ]
        },
        {
          "output_type": "stream",
          "name": "stderr",
          "text": [
            "\r  5%|▌         | 1/20 [04:02<1:16:42, 242.24s/it]"
          ]
        },
        {
          "output_type": "stream",
          "name": "stdout",
          "text": [
            "Episode 62/60 ; Score: -190.0 ; Duzina epizode: 675\n",
            "\n"
          ]
        },
        {
          "output_type": "stream",
          "name": "stderr",
          "text": [
            "\r 10%|█         | 2/20 [07:50<1:10:08, 233.82s/it]"
          ]
        },
        {
          "output_type": "stream",
          "name": "stdout",
          "text": [
            "Episode 63/60 ; Score: -65.0 ; Duzina epizode: 941\n",
            "\n"
          ]
        },
        {
          "output_type": "stream",
          "name": "stderr",
          "text": [
            "\r 15%|█▌        | 3/20 [13:02<1:16:23, 269.60s/it]"
          ]
        },
        {
          "output_type": "stream",
          "name": "stdout",
          "text": [
            "Episode 64/60 ; Score: -90.0 ; Duzina epizode: 894\n",
            "\n"
          ]
        },
        {
          "output_type": "stream",
          "name": "stderr",
          "text": [
            "\r 20%|██        | 4/20 [17:58<1:14:43, 280.21s/it]"
          ]
        },
        {
          "output_type": "stream",
          "name": "stdout",
          "text": [
            "Episode 65/60 ; Score: 185.0 ; Duzina epizode: 905\n",
            "\n"
          ]
        },
        {
          "output_type": "display_data",
          "data": {
            "text/plain": [
              "<IPython.core.display.Javascript object>"
            ],
            "application/javascript": [
              "\n",
              "    async function download(id, filename, size) {\n",
              "      if (!google.colab.kernel.accessAllowed) {\n",
              "        return;\n",
              "      }\n",
              "      const div = document.createElement('div');\n",
              "      const label = document.createElement('label');\n",
              "      label.textContent = `Downloading \"${filename}\": `;\n",
              "      div.appendChild(label);\n",
              "      const progress = document.createElement('progress');\n",
              "      progress.max = size;\n",
              "      div.appendChild(progress);\n",
              "      document.body.appendChild(div);\n",
              "\n",
              "      const buffers = [];\n",
              "      let downloaded = 0;\n",
              "\n",
              "      const channel = await google.colab.kernel.comms.open(id);\n",
              "      // Send a message to notify the kernel that we're ready.\n",
              "      channel.send({})\n",
              "\n",
              "      for await (const message of channel.messages) {\n",
              "        // Send a message to notify the kernel that we're ready.\n",
              "        channel.send({})\n",
              "        if (message.buffers) {\n",
              "          for (const buffer of message.buffers) {\n",
              "            buffers.push(buffer);\n",
              "            downloaded += buffer.byteLength;\n",
              "            progress.value = downloaded;\n",
              "          }\n",
              "        }\n",
              "      }\n",
              "      const blob = new Blob(buffers, {type: 'application/binary'});\n",
              "      const a = document.createElement('a');\n",
              "      a.href = window.URL.createObjectURL(blob);\n",
              "      a.download = filename;\n",
              "      div.appendChild(a);\n",
              "      a.click();\n",
              "      div.remove();\n",
              "    }\n",
              "  "
            ]
          },
          "metadata": {}
        },
        {
          "output_type": "display_data",
          "data": {
            "text/plain": [
              "<IPython.core.display.Javascript object>"
            ],
            "application/javascript": [
              "download(\"download_71496f3d-394f-42a7-bf7d-367bc2bc5595\", \"episode_goal_65_space_invaders_weight_batch_16_improved.h5\", 6242400)"
            ]
          },
          "metadata": {}
        },
        {
          "output_type": "display_data",
          "data": {
            "text/plain": [
              "<IPython.core.display.Javascript object>"
            ],
            "application/javascript": [
              "\n",
              "    async function download(id, filename, size) {\n",
              "      if (!google.colab.kernel.accessAllowed) {\n",
              "        return;\n",
              "      }\n",
              "      const div = document.createElement('div');\n",
              "      const label = document.createElement('label');\n",
              "      label.textContent = `Downloading \"${filename}\": `;\n",
              "      div.appendChild(label);\n",
              "      const progress = document.createElement('progress');\n",
              "      progress.max = size;\n",
              "      div.appendChild(progress);\n",
              "      document.body.appendChild(div);\n",
              "\n",
              "      const buffers = [];\n",
              "      let downloaded = 0;\n",
              "\n",
              "      const channel = await google.colab.kernel.comms.open(id);\n",
              "      // Send a message to notify the kernel that we're ready.\n",
              "      channel.send({})\n",
              "\n",
              "      for await (const message of channel.messages) {\n",
              "        // Send a message to notify the kernel that we're ready.\n",
              "        channel.send({})\n",
              "        if (message.buffers) {\n",
              "          for (const buffer of message.buffers) {\n",
              "            buffers.push(buffer);\n",
              "            downloaded += buffer.byteLength;\n",
              "            progress.value = downloaded;\n",
              "          }\n",
              "        }\n",
              "      }\n",
              "      const blob = new Blob(buffers, {type: 'application/binary'});\n",
              "      const a = document.createElement('a');\n",
              "      a.href = window.URL.createObjectURL(blob);\n",
              "      a.download = filename;\n",
              "      div.appendChild(a);\n",
              "      a.click();\n",
              "      div.remove();\n",
              "    }\n",
              "  "
            ]
          },
          "metadata": {}
        },
        {
          "output_type": "display_data",
          "data": {
            "text/plain": [
              "<IPython.core.display.Javascript object>"
            ],
            "application/javascript": [
              "download(\"download_7eb47b98-9a43-45ad-aeba-1b39fb2e2e32\", \"episode_goal_65_space_invaders_parameters_batch_16_improved.json\", 107)"
            ]
          },
          "metadata": {}
        },
        {
          "output_type": "display_data",
          "data": {
            "text/plain": [
              "<IPython.core.display.Javascript object>"
            ],
            "application/javascript": [
              "\n",
              "    async function download(id, filename, size) {\n",
              "      if (!google.colab.kernel.accessAllowed) {\n",
              "        return;\n",
              "      }\n",
              "      const div = document.createElement('div');\n",
              "      const label = document.createElement('label');\n",
              "      label.textContent = `Downloading \"${filename}\": `;\n",
              "      div.appendChild(label);\n",
              "      const progress = document.createElement('progress');\n",
              "      progress.max = size;\n",
              "      div.appendChild(progress);\n",
              "      document.body.appendChild(div);\n",
              "\n",
              "      const buffers = [];\n",
              "      let downloaded = 0;\n",
              "\n",
              "      const channel = await google.colab.kernel.comms.open(id);\n",
              "      // Send a message to notify the kernel that we're ready.\n",
              "      channel.send({})\n",
              "\n",
              "      for await (const message of channel.messages) {\n",
              "        // Send a message to notify the kernel that we're ready.\n",
              "        channel.send({})\n",
              "        if (message.buffers) {\n",
              "          for (const buffer of message.buffers) {\n",
              "            buffers.push(buffer);\n",
              "            downloaded += buffer.byteLength;\n",
              "            progress.value = downloaded;\n",
              "          }\n",
              "        }\n",
              "      }\n",
              "      const blob = new Blob(buffers, {type: 'application/binary'});\n",
              "      const a = document.createElement('a');\n",
              "      a.href = window.URL.createObjectURL(blob);\n",
              "      a.download = filename;\n",
              "      div.appendChild(a);\n",
              "      a.click();\n",
              "      div.remove();\n",
              "    }\n",
              "  "
            ]
          },
          "metadata": {}
        },
        {
          "output_type": "display_data",
          "data": {
            "text/plain": [
              "<IPython.core.display.Javascript object>"
            ],
            "application/javascript": [
              "download(\"download_845deaaa-dd1b-43b9-b44c-7afd13edca40\", \"episode_goal_65_scores_batch_16_improved.json\", 497)"
            ]
          },
          "metadata": {}
        },
        {
          "output_type": "stream",
          "name": "stderr",
          "text": [
            "\r 25%|██▌       | 5/20 [23:04<1:12:21, 289.41s/it]"
          ]
        },
        {
          "output_type": "stream",
          "name": "stdout",
          "text": [
            "Episode 66/60 ; Score: -165.0 ; Duzina epizode: 797\n",
            "\n"
          ]
        },
        {
          "output_type": "stream",
          "name": "stderr",
          "text": [
            "\r 30%|███       | 6/20 [27:30<1:05:38, 281.33s/it]"
          ]
        },
        {
          "output_type": "stream",
          "name": "stdout",
          "text": [
            "Episode 67/60 ; Score: -120.0 ; Duzina epizode: 929\n",
            "\n"
          ]
        },
        {
          "output_type": "stream",
          "name": "stderr",
          "text": [
            "\r 35%|███▌      | 7/20 [32:43<1:03:13, 291.78s/it]"
          ]
        },
        {
          "output_type": "stream",
          "name": "stdout",
          "text": [
            "Episode 68/60 ; Score: -145.0 ; Duzina epizode: 668\n",
            "\n"
          ]
        },
        {
          "output_type": "stream",
          "name": "stderr",
          "text": [
            "\r 40%|████      | 8/20 [36:25<53:55, 269.67s/it]  "
          ]
        },
        {
          "output_type": "stream",
          "name": "stdout",
          "text": [
            "Episode 69/60 ; Score: -180.0 ; Duzina epizode: 770\n",
            "\n"
          ]
        },
        {
          "output_type": "stream",
          "name": "stderr",
          "text": [
            "\r 45%|████▌     | 9/20 [40:44<48:49, 266.29s/it]"
          ]
        },
        {
          "output_type": "stream",
          "name": "stdout",
          "text": [
            "Episode 70/60 ; Score: -95.0 ; Duzina epizode: 858\n",
            "\n"
          ]
        },
        {
          "output_type": "display_data",
          "data": {
            "text/plain": [
              "<IPython.core.display.Javascript object>"
            ],
            "application/javascript": [
              "\n",
              "    async function download(id, filename, size) {\n",
              "      if (!google.colab.kernel.accessAllowed) {\n",
              "        return;\n",
              "      }\n",
              "      const div = document.createElement('div');\n",
              "      const label = document.createElement('label');\n",
              "      label.textContent = `Downloading \"${filename}\": `;\n",
              "      div.appendChild(label);\n",
              "      const progress = document.createElement('progress');\n",
              "      progress.max = size;\n",
              "      div.appendChild(progress);\n",
              "      document.body.appendChild(div);\n",
              "\n",
              "      const buffers = [];\n",
              "      let downloaded = 0;\n",
              "\n",
              "      const channel = await google.colab.kernel.comms.open(id);\n",
              "      // Send a message to notify the kernel that we're ready.\n",
              "      channel.send({})\n",
              "\n",
              "      for await (const message of channel.messages) {\n",
              "        // Send a message to notify the kernel that we're ready.\n",
              "        channel.send({})\n",
              "        if (message.buffers) {\n",
              "          for (const buffer of message.buffers) {\n",
              "            buffers.push(buffer);\n",
              "            downloaded += buffer.byteLength;\n",
              "            progress.value = downloaded;\n",
              "          }\n",
              "        }\n",
              "      }\n",
              "      const blob = new Blob(buffers, {type: 'application/binary'});\n",
              "      const a = document.createElement('a');\n",
              "      a.href = window.URL.createObjectURL(blob);\n",
              "      a.download = filename;\n",
              "      div.appendChild(a);\n",
              "      a.click();\n",
              "      div.remove();\n",
              "    }\n",
              "  "
            ]
          },
          "metadata": {}
        },
        {
          "output_type": "display_data",
          "data": {
            "text/plain": [
              "<IPython.core.display.Javascript object>"
            ],
            "application/javascript": [
              "download(\"download_468858be-b5b6-423e-b316-32e40b838901\", \"episode_goal_70_space_invaders_weight_batch_16_improved.h5\", 6242400)"
            ]
          },
          "metadata": {}
        },
        {
          "output_type": "display_data",
          "data": {
            "text/plain": [
              "<IPython.core.display.Javascript object>"
            ],
            "application/javascript": [
              "\n",
              "    async function download(id, filename, size) {\n",
              "      if (!google.colab.kernel.accessAllowed) {\n",
              "        return;\n",
              "      }\n",
              "      const div = document.createElement('div');\n",
              "      const label = document.createElement('label');\n",
              "      label.textContent = `Downloading \"${filename}\": `;\n",
              "      div.appendChild(label);\n",
              "      const progress = document.createElement('progress');\n",
              "      progress.max = size;\n",
              "      div.appendChild(progress);\n",
              "      document.body.appendChild(div);\n",
              "\n",
              "      const buffers = [];\n",
              "      let downloaded = 0;\n",
              "\n",
              "      const channel = await google.colab.kernel.comms.open(id);\n",
              "      // Send a message to notify the kernel that we're ready.\n",
              "      channel.send({})\n",
              "\n",
              "      for await (const message of channel.messages) {\n",
              "        // Send a message to notify the kernel that we're ready.\n",
              "        channel.send({})\n",
              "        if (message.buffers) {\n",
              "          for (const buffer of message.buffers) {\n",
              "            buffers.push(buffer);\n",
              "            downloaded += buffer.byteLength;\n",
              "            progress.value = downloaded;\n",
              "          }\n",
              "        }\n",
              "      }\n",
              "      const blob = new Blob(buffers, {type: 'application/binary'});\n",
              "      const a = document.createElement('a');\n",
              "      a.href = window.URL.createObjectURL(blob);\n",
              "      a.download = filename;\n",
              "      div.appendChild(a);\n",
              "      a.click();\n",
              "      div.remove();\n",
              "    }\n",
              "  "
            ]
          },
          "metadata": {}
        },
        {
          "output_type": "display_data",
          "data": {
            "text/plain": [
              "<IPython.core.display.Javascript object>"
            ],
            "application/javascript": [
              "download(\"download_5dd00f85-20cf-4677-a69d-2461075dfe5e\", \"episode_goal_70_space_invaders_parameters_batch_16_improved.json\", 107)"
            ]
          },
          "metadata": {}
        },
        {
          "output_type": "display_data",
          "data": {
            "text/plain": [
              "<IPython.core.display.Javascript object>"
            ],
            "application/javascript": [
              "\n",
              "    async function download(id, filename, size) {\n",
              "      if (!google.colab.kernel.accessAllowed) {\n",
              "        return;\n",
              "      }\n",
              "      const div = document.createElement('div');\n",
              "      const label = document.createElement('label');\n",
              "      label.textContent = `Downloading \"${filename}\": `;\n",
              "      div.appendChild(label);\n",
              "      const progress = document.createElement('progress');\n",
              "      progress.max = size;\n",
              "      div.appendChild(progress);\n",
              "      document.body.appendChild(div);\n",
              "\n",
              "      const buffers = [];\n",
              "      let downloaded = 0;\n",
              "\n",
              "      const channel = await google.colab.kernel.comms.open(id);\n",
              "      // Send a message to notify the kernel that we're ready.\n",
              "      channel.send({})\n",
              "\n",
              "      for await (const message of channel.messages) {\n",
              "        // Send a message to notify the kernel that we're ready.\n",
              "        channel.send({})\n",
              "        if (message.buffers) {\n",
              "          for (const buffer of message.buffers) {\n",
              "            buffers.push(buffer);\n",
              "            downloaded += buffer.byteLength;\n",
              "            progress.value = downloaded;\n",
              "          }\n",
              "        }\n",
              "      }\n",
              "      const blob = new Blob(buffers, {type: 'application/binary'});\n",
              "      const a = document.createElement('a');\n",
              "      a.href = window.URL.createObjectURL(blob);\n",
              "      a.download = filename;\n",
              "      div.appendChild(a);\n",
              "      a.click();\n",
              "      div.remove();\n",
              "    }\n",
              "  "
            ]
          },
          "metadata": {}
        },
        {
          "output_type": "display_data",
          "data": {
            "text/plain": [
              "<IPython.core.display.Javascript object>"
            ],
            "application/javascript": [
              "download(\"download_b05a71c2-74b6-4eb7-be92-04d71d67c3e9\", \"episode_goal_70_scores_batch_16_improved.json\", 536)"
            ]
          },
          "metadata": {}
        },
        {
          "output_type": "stream",
          "name": "stderr",
          "text": [
            "\r 50%|█████     | 10/20 [45:37<45:44, 274.50s/it]"
          ]
        },
        {
          "output_type": "stream",
          "name": "stdout",
          "text": [
            "Episode 71/60 ; Score: -150.0 ; Duzina epizode: 771\n",
            "\n"
          ]
        },
        {
          "output_type": "stream",
          "name": "stderr",
          "text": [
            "\r 55%|█████▌    | 11/20 [49:55<40:24, 269.37s/it]"
          ]
        },
        {
          "output_type": "stream",
          "name": "stdout",
          "text": [
            "Episode 72/60 ; Score: -195.0 ; Duzina epizode: 653\n",
            "\n"
          ]
        },
        {
          "output_type": "stream",
          "name": "stderr",
          "text": [
            "\r 60%|██████    | 12/20 [53:39<34:05, 255.73s/it]"
          ]
        },
        {
          "output_type": "stream",
          "name": "stdout",
          "text": [
            "Episode 73/60 ; Score: -90.0 ; Duzina epizode: 959\n",
            "\n"
          ]
        },
        {
          "output_type": "stream",
          "name": "stderr",
          "text": [
            "\r 65%|██████▌   | 13/20 [59:03<32:13, 276.21s/it]"
          ]
        },
        {
          "output_type": "stream",
          "name": "stdout",
          "text": [
            "Episode 74/60 ; Score: 140.0 ; Duzina epizode: 1002\n",
            "\n"
          ]
        },
        {
          "output_type": "stream",
          "name": "stderr",
          "text": [
            "\r 70%|███████   | 14/20 [1:04:43<29:32, 295.49s/it]"
          ]
        },
        {
          "output_type": "stream",
          "name": "stdout",
          "text": [
            "Episode 75/60 ; Score: -145.0 ; Duzina epizode: 795\n",
            "\n"
          ]
        },
        {
          "output_type": "display_data",
          "data": {
            "text/plain": [
              "<IPython.core.display.Javascript object>"
            ],
            "application/javascript": [
              "\n",
              "    async function download(id, filename, size) {\n",
              "      if (!google.colab.kernel.accessAllowed) {\n",
              "        return;\n",
              "      }\n",
              "      const div = document.createElement('div');\n",
              "      const label = document.createElement('label');\n",
              "      label.textContent = `Downloading \"${filename}\": `;\n",
              "      div.appendChild(label);\n",
              "      const progress = document.createElement('progress');\n",
              "      progress.max = size;\n",
              "      div.appendChild(progress);\n",
              "      document.body.appendChild(div);\n",
              "\n",
              "      const buffers = [];\n",
              "      let downloaded = 0;\n",
              "\n",
              "      const channel = await google.colab.kernel.comms.open(id);\n",
              "      // Send a message to notify the kernel that we're ready.\n",
              "      channel.send({})\n",
              "\n",
              "      for await (const message of channel.messages) {\n",
              "        // Send a message to notify the kernel that we're ready.\n",
              "        channel.send({})\n",
              "        if (message.buffers) {\n",
              "          for (const buffer of message.buffers) {\n",
              "            buffers.push(buffer);\n",
              "            downloaded += buffer.byteLength;\n",
              "            progress.value = downloaded;\n",
              "          }\n",
              "        }\n",
              "      }\n",
              "      const blob = new Blob(buffers, {type: 'application/binary'});\n",
              "      const a = document.createElement('a');\n",
              "      a.href = window.URL.createObjectURL(blob);\n",
              "      a.download = filename;\n",
              "      div.appendChild(a);\n",
              "      a.click();\n",
              "      div.remove();\n",
              "    }\n",
              "  "
            ]
          },
          "metadata": {}
        },
        {
          "output_type": "display_data",
          "data": {
            "text/plain": [
              "<IPython.core.display.Javascript object>"
            ],
            "application/javascript": [
              "download(\"download_906941ea-30ed-4acf-afd1-b48d0183337d\", \"episode_goal_75_space_invaders_weight_batch_16_improved.h5\", 6242400)"
            ]
          },
          "metadata": {}
        },
        {
          "output_type": "display_data",
          "data": {
            "text/plain": [
              "<IPython.core.display.Javascript object>"
            ],
            "application/javascript": [
              "\n",
              "    async function download(id, filename, size) {\n",
              "      if (!google.colab.kernel.accessAllowed) {\n",
              "        return;\n",
              "      }\n",
              "      const div = document.createElement('div');\n",
              "      const label = document.createElement('label');\n",
              "      label.textContent = `Downloading \"${filename}\": `;\n",
              "      div.appendChild(label);\n",
              "      const progress = document.createElement('progress');\n",
              "      progress.max = size;\n",
              "      div.appendChild(progress);\n",
              "      document.body.appendChild(div);\n",
              "\n",
              "      const buffers = [];\n",
              "      let downloaded = 0;\n",
              "\n",
              "      const channel = await google.colab.kernel.comms.open(id);\n",
              "      // Send a message to notify the kernel that we're ready.\n",
              "      channel.send({})\n",
              "\n",
              "      for await (const message of channel.messages) {\n",
              "        // Send a message to notify the kernel that we're ready.\n",
              "        channel.send({})\n",
              "        if (message.buffers) {\n",
              "          for (const buffer of message.buffers) {\n",
              "            buffers.push(buffer);\n",
              "            downloaded += buffer.byteLength;\n",
              "            progress.value = downloaded;\n",
              "          }\n",
              "        }\n",
              "      }\n",
              "      const blob = new Blob(buffers, {type: 'application/binary'});\n",
              "      const a = document.createElement('a');\n",
              "      a.href = window.URL.createObjectURL(blob);\n",
              "      a.download = filename;\n",
              "      div.appendChild(a);\n",
              "      a.click();\n",
              "      div.remove();\n",
              "    }\n",
              "  "
            ]
          },
          "metadata": {}
        },
        {
          "output_type": "display_data",
          "data": {
            "text/plain": [
              "<IPython.core.display.Javascript object>"
            ],
            "application/javascript": [
              "download(\"download_c8bca0fb-0eee-4c2d-bb0a-cb61ac3e94b4\", \"episode_goal_75_space_invaders_parameters_batch_16_improved.json\", 108)"
            ]
          },
          "metadata": {}
        },
        {
          "output_type": "display_data",
          "data": {
            "text/plain": [
              "<IPython.core.display.Javascript object>"
            ],
            "application/javascript": [
              "\n",
              "    async function download(id, filename, size) {\n",
              "      if (!google.colab.kernel.accessAllowed) {\n",
              "        return;\n",
              "      }\n",
              "      const div = document.createElement('div');\n",
              "      const label = document.createElement('label');\n",
              "      label.textContent = `Downloading \"${filename}\": `;\n",
              "      div.appendChild(label);\n",
              "      const progress = document.createElement('progress');\n",
              "      progress.max = size;\n",
              "      div.appendChild(progress);\n",
              "      document.body.appendChild(div);\n",
              "\n",
              "      const buffers = [];\n",
              "      let downloaded = 0;\n",
              "\n",
              "      const channel = await google.colab.kernel.comms.open(id);\n",
              "      // Send a message to notify the kernel that we're ready.\n",
              "      channel.send({})\n",
              "\n",
              "      for await (const message of channel.messages) {\n",
              "        // Send a message to notify the kernel that we're ready.\n",
              "        channel.send({})\n",
              "        if (message.buffers) {\n",
              "          for (const buffer of message.buffers) {\n",
              "            buffers.push(buffer);\n",
              "            downloaded += buffer.byteLength;\n",
              "            progress.value = downloaded;\n",
              "          }\n",
              "        }\n",
              "      }\n",
              "      const blob = new Blob(buffers, {type: 'application/binary'});\n",
              "      const a = document.createElement('a');\n",
              "      a.href = window.URL.createObjectURL(blob);\n",
              "      a.download = filename;\n",
              "      div.appendChild(a);\n",
              "      a.click();\n",
              "      div.remove();\n",
              "    }\n",
              "  "
            ]
          },
          "metadata": {}
        },
        {
          "output_type": "display_data",
          "data": {
            "text/plain": [
              "<IPython.core.display.Javascript object>"
            ],
            "application/javascript": [
              "download(\"download_3bf66295-726e-4817-af0b-71db28ff1076\", \"episode_goal_75_scores_batch_16_improved.json\", 574)"
            ]
          },
          "metadata": {}
        },
        {
          "output_type": "stream",
          "name": "stderr",
          "text": [
            "\r 75%|███████▌  | 15/20 [1:09:17<24:05, 289.05s/it]"
          ]
        },
        {
          "output_type": "stream",
          "name": "stdout",
          "text": [
            "Episode 76/60 ; Score: -115.0 ; Duzina epizode: 914\n",
            "\n"
          ]
        },
        {
          "output_type": "stream",
          "name": "stderr",
          "text": [
            "\r 80%|████████  | 16/20 [1:14:28<19:43, 295.79s/it]"
          ]
        },
        {
          "output_type": "stream",
          "name": "stdout",
          "text": [
            "Episode 77/60 ; Score: -225.0 ; Duzina epizode: 379\n",
            "\n"
          ]
        },
        {
          "output_type": "stream",
          "name": "stderr",
          "text": [
            "\r 85%|████████▌ | 17/20 [1:16:37<12:16, 245.48s/it]"
          ]
        },
        {
          "output_type": "stream",
          "name": "stdout",
          "text": [
            "Episode 78/60 ; Score: -50.0 ; Duzina epizode: 986\n",
            "\n"
          ]
        },
        {
          "output_type": "stream",
          "name": "stderr",
          "text": [
            "\r 90%|█████████ | 18/20 [1:22:11<09:04, 272.15s/it]"
          ]
        },
        {
          "output_type": "stream",
          "name": "stdout",
          "text": [
            "Episode 79/60 ; Score: -130.0 ; Duzina epizode: 754\n",
            "\n"
          ]
        },
        {
          "output_type": "stream",
          "name": "stderr",
          "text": [
            "\r 95%|█████████▌| 19/20 [1:26:28<04:27, 267.49s/it]"
          ]
        },
        {
          "output_type": "stream",
          "name": "stdout",
          "text": [
            "Episode 80/60 ; Score: -170.0 ; Duzina epizode: 965\n",
            "\n"
          ]
        },
        {
          "output_type": "display_data",
          "data": {
            "text/plain": [
              "<IPython.core.display.Javascript object>"
            ],
            "application/javascript": [
              "\n",
              "    async function download(id, filename, size) {\n",
              "      if (!google.colab.kernel.accessAllowed) {\n",
              "        return;\n",
              "      }\n",
              "      const div = document.createElement('div');\n",
              "      const label = document.createElement('label');\n",
              "      label.textContent = `Downloading \"${filename}\": `;\n",
              "      div.appendChild(label);\n",
              "      const progress = document.createElement('progress');\n",
              "      progress.max = size;\n",
              "      div.appendChild(progress);\n",
              "      document.body.appendChild(div);\n",
              "\n",
              "      const buffers = [];\n",
              "      let downloaded = 0;\n",
              "\n",
              "      const channel = await google.colab.kernel.comms.open(id);\n",
              "      // Send a message to notify the kernel that we're ready.\n",
              "      channel.send({})\n",
              "\n",
              "      for await (const message of channel.messages) {\n",
              "        // Send a message to notify the kernel that we're ready.\n",
              "        channel.send({})\n",
              "        if (message.buffers) {\n",
              "          for (const buffer of message.buffers) {\n",
              "            buffers.push(buffer);\n",
              "            downloaded += buffer.byteLength;\n",
              "            progress.value = downloaded;\n",
              "          }\n",
              "        }\n",
              "      }\n",
              "      const blob = new Blob(buffers, {type: 'application/binary'});\n",
              "      const a = document.createElement('a');\n",
              "      a.href = window.URL.createObjectURL(blob);\n",
              "      a.download = filename;\n",
              "      div.appendChild(a);\n",
              "      a.click();\n",
              "      div.remove();\n",
              "    }\n",
              "  "
            ]
          },
          "metadata": {}
        },
        {
          "output_type": "display_data",
          "data": {
            "text/plain": [
              "<IPython.core.display.Javascript object>"
            ],
            "application/javascript": [
              "download(\"download_ef8b2a2f-4ff0-496f-9798-c27ce7a5ce0e\", \"episode_goal_80_space_invaders_weight_batch_16_improved.h5\", 6242400)"
            ]
          },
          "metadata": {}
        },
        {
          "output_type": "display_data",
          "data": {
            "text/plain": [
              "<IPython.core.display.Javascript object>"
            ],
            "application/javascript": [
              "\n",
              "    async function download(id, filename, size) {\n",
              "      if (!google.colab.kernel.accessAllowed) {\n",
              "        return;\n",
              "      }\n",
              "      const div = document.createElement('div');\n",
              "      const label = document.createElement('label');\n",
              "      label.textContent = `Downloading \"${filename}\": `;\n",
              "      div.appendChild(label);\n",
              "      const progress = document.createElement('progress');\n",
              "      progress.max = size;\n",
              "      div.appendChild(progress);\n",
              "      document.body.appendChild(div);\n",
              "\n",
              "      const buffers = [];\n",
              "      let downloaded = 0;\n",
              "\n",
              "      const channel = await google.colab.kernel.comms.open(id);\n",
              "      // Send a message to notify the kernel that we're ready.\n",
              "      channel.send({})\n",
              "\n",
              "      for await (const message of channel.messages) {\n",
              "        // Send a message to notify the kernel that we're ready.\n",
              "        channel.send({})\n",
              "        if (message.buffers) {\n",
              "          for (const buffer of message.buffers) {\n",
              "            buffers.push(buffer);\n",
              "            downloaded += buffer.byteLength;\n",
              "            progress.value = downloaded;\n",
              "          }\n",
              "        }\n",
              "      }\n",
              "      const blob = new Blob(buffers, {type: 'application/binary'});\n",
              "      const a = document.createElement('a');\n",
              "      a.href = window.URL.createObjectURL(blob);\n",
              "      a.download = filename;\n",
              "      div.appendChild(a);\n",
              "      a.click();\n",
              "      div.remove();\n",
              "    }\n",
              "  "
            ]
          },
          "metadata": {}
        },
        {
          "output_type": "display_data",
          "data": {
            "text/plain": [
              "<IPython.core.display.Javascript object>"
            ],
            "application/javascript": [
              "download(\"download_fdf42db0-7a99-4bce-9952-2dba7b422fe3\", \"episode_goal_80_space_invaders_parameters_batch_16_improved.json\", 107)"
            ]
          },
          "metadata": {}
        },
        {
          "output_type": "display_data",
          "data": {
            "text/plain": [
              "<IPython.core.display.Javascript object>"
            ],
            "application/javascript": [
              "\n",
              "    async function download(id, filename, size) {\n",
              "      if (!google.colab.kernel.accessAllowed) {\n",
              "        return;\n",
              "      }\n",
              "      const div = document.createElement('div');\n",
              "      const label = document.createElement('label');\n",
              "      label.textContent = `Downloading \"${filename}\": `;\n",
              "      div.appendChild(label);\n",
              "      const progress = document.createElement('progress');\n",
              "      progress.max = size;\n",
              "      div.appendChild(progress);\n",
              "      document.body.appendChild(div);\n",
              "\n",
              "      const buffers = [];\n",
              "      let downloaded = 0;\n",
              "\n",
              "      const channel = await google.colab.kernel.comms.open(id);\n",
              "      // Send a message to notify the kernel that we're ready.\n",
              "      channel.send({})\n",
              "\n",
              "      for await (const message of channel.messages) {\n",
              "        // Send a message to notify the kernel that we're ready.\n",
              "        channel.send({})\n",
              "        if (message.buffers) {\n",
              "          for (const buffer of message.buffers) {\n",
              "            buffers.push(buffer);\n",
              "            downloaded += buffer.byteLength;\n",
              "            progress.value = downloaded;\n",
              "          }\n",
              "        }\n",
              "      }\n",
              "      const blob = new Blob(buffers, {type: 'application/binary'});\n",
              "      const a = document.createElement('a');\n",
              "      a.href = window.URL.createObjectURL(blob);\n",
              "      a.download = filename;\n",
              "      div.appendChild(a);\n",
              "      a.click();\n",
              "      div.remove();\n",
              "    }\n",
              "  "
            ]
          },
          "metadata": {}
        },
        {
          "output_type": "display_data",
          "data": {
            "text/plain": [
              "<IPython.core.display.Javascript object>"
            ],
            "application/javascript": [
              "download(\"download_43ebbb0e-0d19-4962-8c93-6f61785cbaa1\", \"episode_goal_80_scores_batch_16_improved.json\", 613)"
            ]
          },
          "metadata": {}
        },
        {
          "output_type": "stream",
          "name": "stderr",
          "text": [
            "100%|██████████| 20/20 [1:31:59<00:00, 275.97s/it]\n"
          ]
        },
        {
          "output_type": "execute_result",
          "data": {
            "text/plain": [
              "[20.0,\n",
              " -195.0,\n",
              " -35.0,\n",
              " -180.0,\n",
              " -235.0,\n",
              " -145.0,\n",
              " -210.0,\n",
              " -165.0,\n",
              " -190.0,\n",
              " -90.0,\n",
              " -115.0,\n",
              " -210.0,\n",
              " -265.0,\n",
              " -85.0,\n",
              " -250.0,\n",
              " -145.0,\n",
              " -135.0,\n",
              " -165.0,\n",
              " -125.0,\n",
              " -180.0,\n",
              " -90.0,\n",
              " -180.0,\n",
              " -120.0,\n",
              " -90.0,\n",
              " -120.0,\n",
              " -205.0,\n",
              " -175.0,\n",
              " -245.0,\n",
              " -110.0,\n",
              " -255.0,\n",
              " -145.0,\n",
              " 140.0,\n",
              " -145.0,\n",
              " 110.0,\n",
              " -90.0,\n",
              " -210.0,\n",
              " -270.0,\n",
              " -5.0,\n",
              " -260.0,\n",
              " -205.0,\n",
              " -200.0,\n",
              " -220.0,\n",
              " -130.0,\n",
              " 10.0,\n",
              " 45.0,\n",
              " -225.0,\n",
              " 120.0,\n",
              " -125.0,\n",
              " -235.0,\n",
              " -45.0,\n",
              " -225.0,\n",
              " -285.0,\n",
              " -175.0,\n",
              " -285.0,\n",
              " -55.0,\n",
              " -145.0,\n",
              " -245.0,\n",
              " -190.0,\n",
              " -165.0,\n",
              " -145.0,\n",
              " -70.0,\n",
              " -190.0,\n",
              " -65.0,\n",
              " -90.0,\n",
              " 185.0,\n",
              " -165.0,\n",
              " -120.0,\n",
              " -145.0,\n",
              " -180.0,\n",
              " -95.0,\n",
              " -150.0,\n",
              " -195.0,\n",
              " -90.0,\n",
              " 140.0,\n",
              " -145.0,\n",
              " -115.0,\n",
              " -225.0,\n",
              " -50.0,\n",
              " -130.0,\n",
              " -170.0]"
            ]
          },
          "metadata": {},
          "execution_count": 17
        }
      ],
      "source": [
        "game.run_train()"
      ]
    },
    {
      "cell_type": "code",
      "source": [
        "print(\"ej\")"
      ],
      "metadata": {
        "colab": {
          "base_uri": "https://localhost:8080/"
        },
        "id": "cBep60hsArNO",
        "outputId": "99c64d81-e75f-4a70-edf8-a016b8dbb1f2"
      },
      "id": "cBep60hsArNO",
      "execution_count": null,
      "outputs": [
        {
          "output_type": "stream",
          "name": "stdout",
          "text": [
            "ej\n"
          ]
        }
      ]
    },
    {
      "cell_type": "code",
      "source": [
        "game = SpaceInvaders(episodes_to_train=10,continue_training=True, current_episode=30)"
      ],
      "metadata": {
        "colab": {
          "base_uri": "https://localhost:8080/",
          "height": 831
        },
        "id": "gQ5KlmgZGj7Z",
        "outputId": "9b686c30-109e-4ccd-e7d8-8fa2d8921956"
      },
      "id": "gQ5KlmgZGj7Z",
      "execution_count": null,
      "outputs": [
        {
          "output_type": "stream",
          "name": "stdout",
          "text": [
            "Model: \"sequential_12\"\n",
            "_________________________________________________________________\n",
            " Layer (type)                Output Shape              Param #   \n",
            "=================================================================\n",
            " conv2d_36 (Conv2D)          (None, 46, 36, 32)        7808      \n",
            "                                                                 \n",
            " conv2d_37 (Conv2D)          (None, 20, 15, 24)        37656     \n",
            "                                                                 \n",
            " conv2d_38 (Conv2D)          (None, 8, 6, 16)          9616      \n",
            "                                                                 \n",
            " flatten_12 (Flatten)        (None, 768)               0         \n",
            "                                                                 \n",
            " dense_36 (Dense)            (None, 512)               393728    \n",
            "                                                                 \n",
            " dense_37 (Dense)            (None, 128)               65664     \n",
            "                                                                 \n",
            " dense_38 (Dense)            (None, 6)                 774       \n",
            "                                                                 \n",
            "=================================================================\n",
            "Total params: 515,246\n",
            "Trainable params: 515,246\n",
            "Non-trainable params: 0\n",
            "_________________________________________________________________\n",
            "None\n",
            "Nema mreze!\n"
          ]
        },
        {
          "output_type": "error",
          "ename": "FileNotFoundError",
          "evalue": "ignored",
          "traceback": [
            "\u001b[0;31m---------------------------------------------------------------------------\u001b[0m",
            "\u001b[0;31mFileNotFoundError\u001b[0m                         Traceback (most recent call last)",
            "\u001b[0;32m<ipython-input-70-6bb9955880a7>\u001b[0m in \u001b[0;36m<module>\u001b[0;34m\u001b[0m\n\u001b[0;32m----> 1\u001b[0;31m \u001b[0mgame\u001b[0m \u001b[0;34m=\u001b[0m \u001b[0mSpaceInvaders\u001b[0m\u001b[0;34m(\u001b[0m\u001b[0mepisodes_to_train\u001b[0m\u001b[0;34m=\u001b[0m\u001b[0;36m10\u001b[0m\u001b[0;34m,\u001b[0m\u001b[0mcontinue_training\u001b[0m\u001b[0;34m=\u001b[0m\u001b[0;32mTrue\u001b[0m\u001b[0;34m,\u001b[0m \u001b[0mcurrent_episode\u001b[0m\u001b[0;34m=\u001b[0m\u001b[0;36m30\u001b[0m\u001b[0;34m)\u001b[0m\u001b[0;34m\u001b[0m\u001b[0;34m\u001b[0m\u001b[0m\n\u001b[0m",
            "\u001b[0;32m<ipython-input-66-95c178147d27>\u001b[0m in \u001b[0;36m__init__\u001b[0;34m(self, continue_training, episodes_to_train, current_episode)\u001b[0m\n\u001b[1;32m     13\u001b[0m \u001b[0;34m\u001b[0m\u001b[0m\n\u001b[1;32m     14\u001b[0m         \u001b[0;32mif\u001b[0m\u001b[0;34m(\u001b[0m\u001b[0mcontinue_training\u001b[0m\u001b[0;34m)\u001b[0m\u001b[0;34m:\u001b[0m\u001b[0;34m\u001b[0m\u001b[0;34m\u001b[0m\u001b[0m\n\u001b[0;32m---> 15\u001b[0;31m             \u001b[0mself\u001b[0m\u001b[0;34m.\u001b[0m\u001b[0mscores\u001b[0m \u001b[0;34m=\u001b[0m \u001b[0mself\u001b[0m\u001b[0;34m.\u001b[0m\u001b[0mload_scores\u001b[0m\u001b[0;34m(\u001b[0m\u001b[0;34m)\u001b[0m\u001b[0;34m\u001b[0m\u001b[0;34m\u001b[0m\u001b[0m\n\u001b[0m\u001b[1;32m     16\u001b[0m \u001b[0;34m\u001b[0m\u001b[0m\n\u001b[1;32m     17\u001b[0m     \u001b[0;32mdef\u001b[0m \u001b[0mload_model\u001b[0m\u001b[0;34m(\u001b[0m\u001b[0mself\u001b[0m\u001b[0;34m)\u001b[0m\u001b[0;34m:\u001b[0m\u001b[0;34m\u001b[0m\u001b[0;34m\u001b[0m\u001b[0m\n",
            "\u001b[0;32m<ipython-input-66-95c178147d27>\u001b[0m in \u001b[0;36mload_scores\u001b[0;34m(self)\u001b[0m\n\u001b[1;32m     33\u001b[0m     \u001b[0;32mdef\u001b[0m \u001b[0mload_scores\u001b[0m\u001b[0;34m(\u001b[0m\u001b[0mself\u001b[0m\u001b[0;34m)\u001b[0m\u001b[0;34m:\u001b[0m\u001b[0;34m\u001b[0m\u001b[0;34m\u001b[0m\u001b[0m\n\u001b[1;32m     34\u001b[0m         \u001b[0mscores_to_load\u001b[0m \u001b[0;34m=\u001b[0m \u001b[0;34m\"episode_goal_\"\u001b[0m\u001b[0;34m+\u001b[0m \u001b[0mstr\u001b[0m\u001b[0;34m(\u001b[0m\u001b[0mself\u001b[0m\u001b[0;34m.\u001b[0m\u001b[0magent\u001b[0m\u001b[0;34m.\u001b[0m\u001b[0mcurrent_episode\u001b[0m\u001b[0;34m)\u001b[0m \u001b[0;34m+\u001b[0m \u001b[0;34m\"_\"\u001b[0m \u001b[0;34m+\u001b[0m \u001b[0mself\u001b[0m\u001b[0;34m.\u001b[0m\u001b[0magent\u001b[0m\u001b[0;34m.\u001b[0m\u001b[0mscores_backup\u001b[0m\u001b[0;34m\u001b[0m\u001b[0;34m\u001b[0m\u001b[0m\n\u001b[0;32m---> 35\u001b[0;31m         \u001b[0;32mwith\u001b[0m \u001b[0mopen\u001b[0m\u001b[0;34m(\u001b[0m\u001b[0mscores_to_load\u001b[0m\u001b[0;34m,\u001b[0m \u001b[0;34m\"r\"\u001b[0m\u001b[0;34m)\u001b[0m \u001b[0;32mas\u001b[0m \u001b[0mf\u001b[0m\u001b[0;34m:\u001b[0m\u001b[0;34m\u001b[0m\u001b[0;34m\u001b[0m\u001b[0m\n\u001b[0m\u001b[1;32m     36\u001b[0m             \u001b[0mscores_loaded\u001b[0m \u001b[0;34m=\u001b[0m \u001b[0mjson\u001b[0m\u001b[0;34m.\u001b[0m\u001b[0mload\u001b[0m\u001b[0;34m(\u001b[0m\u001b[0mf\u001b[0m\u001b[0;34m)\u001b[0m\u001b[0;34m\u001b[0m\u001b[0;34m\u001b[0m\u001b[0m\n\u001b[1;32m     37\u001b[0m \u001b[0;34m\u001b[0m\u001b[0m\n",
            "\u001b[0;31mFileNotFoundError\u001b[0m: [Errno 2] No such file or directory: 'episode_goal_30_scores_batch_16_improved.json'"
          ]
        }
      ]
    },
    {
      "cell_type": "code",
      "execution_count": null,
      "id": "f7c12889",
      "metadata": {
        "id": "f7c12889"
      },
      "outputs": [],
      "source": [
        "sleep(60)"
      ]
    },
    {
      "cell_type": "code",
      "source": [
        "game.run_train()"
      ],
      "metadata": {
        "id": "1PGs4cC4GiSZ"
      },
      "id": "1PGs4cC4GiSZ",
      "execution_count": null,
      "outputs": []
    },
    {
      "cell_type": "code",
      "execution_count": null,
      "id": "e5fc4bf8",
      "metadata": {
        "id": "e5fc4bf8"
      },
      "outputs": [],
      "source": [
        "env = gym.make('SpaceInvaders-v4')#, new_step_api=True)#, render_mode=\"human\")"
      ]
    },
    {
      "cell_type": "code",
      "execution_count": null,
      "id": "c1f37ce5",
      "metadata": {
        "id": "c1f37ce5"
      },
      "outputs": [],
      "source": [
        "observation = env.reset()"
      ]
    },
    {
      "cell_type": "code",
      "execution_count": null,
      "id": "955270b5",
      "metadata": {
        "id": "955270b5",
        "outputId": "9a321e04-dfb4-45a4-dd5d-ea8d308bbd71"
      },
      "outputs": [
        {
          "data": {
            "text/plain": [
              "<matplotlib.image.AxesImage at 0x7f4f22122b60>"
            ]
          },
          "execution_count": 5,
          "metadata": {},
          "output_type": "execute_result"
        },
        {
          "data": {
            "image/png": "[encoded data removed]",
            "text/plain": [
              "<Figure size 640x480 with 1 Axes>"
            ]
          },
          "metadata": {},
          "output_type": "display_data"
        }
      ],
      "source": [
        "plt.imshow(observation)"
      ]
    },
    {
      "cell_type": "code",
      "execution_count": null,
      "id": "1897fd76",
      "metadata": {
        "id": "1897fd76"
      },
      "outputs": [],
      "source": [
        "from PIL import Image"
      ]
    },
    {
      "cell_type": "code",
      "execution_count": null,
      "id": "6df67efd",
      "metadata": {
        "id": "6df67efd"
      },
      "outputs": [],
      "source": [
        "obs_prep = observation[:200,:]"
      ]
    },
    {
      "cell_type": "code",
      "execution_count": null,
      "id": "80c04703",
      "metadata": {
        "id": "80c04703",
        "scrolled": true
      },
      "outputs": [],
      "source": [
        "obs_prep = Image.fromarray(obs_prep)"
      ]
    },
    {
      "cell_type": "code",
      "execution_count": null,
      "id": "017ec9be",
      "metadata": {
        "id": "017ec9be"
      },
      "outputs": [],
      "source": [
        "obs_prep.thumbnail(size = tuple(map(lambda x: x//2, obs_prep.size)))"
      ]
    },
    {
      "cell_type": "code",
      "execution_count": null,
      "id": "38016c6b",
      "metadata": {
        "id": "38016c6b"
      },
      "outputs": [],
      "source": [
        "obs_prep.show()"
      ]
    },
    {
      "cell_type": "code",
      "execution_count": null,
      "id": "1710a988",
      "metadata": {
        "id": "1710a988",
        "outputId": "db341ebc-5c1d-46d0-b9da-e58978b7c0f4",
        "scrolled": true
      },
      "outputs": [
        {
          "data": {
            "text/plain": [
              "<matplotlib.image.AxesImage at 0x7f4f0c957a00>"
            ]
          },
          "execution_count": 48,
          "metadata": {},
          "output_type": "execute_result"
        },
        {
          "data": {
            "image/png": "[encoded data removed]",
            "text/plain": [
              "<Figure size 640x480 with 1 Axes>"
            ]
          },
          "metadata": {},
          "output_type": "display_data"
        }
      ],
      "source": [
        "plt.imshow(observation[:200:2,::2])"
      ]
    },
    {
      "cell_type": "code",
      "execution_count": null,
      "id": "36f09918",
      "metadata": {
        "id": "36f09918"
      },
      "outputs": [],
      "source": [
        "from time import sleep"
      ]
    },
    {
      "cell_type": "code",
      "execution_count": null,
      "id": "3d965085",
      "metadata": {
        "id": "3d965085"
      },
      "outputs": [],
      "source": [
        "for i in range(10000):\n",
        "    akcija = random.randint(0,5)\n",
        "    next_state, reward, done, info = env.step(akcija)\n",
        "    if(info):\n",
        "        print(info, \"done: \", done)\n",
        "        \n",
        "    if(done):\n",
        "        break\n",
        "env.close()\n"
      ]
    },
    {
      "cell_type": "code",
      "execution_count": null,
      "id": "c119282c",
      "metadata": {
        "id": "c119282c"
      },
      "outputs": [],
      "source": []
    }
  ],
  "metadata": {
    "accelerator": "TPU",
    "colab": {
      "collapsed_sections": [],
      "provenance": []
    },
    "gpuClass": "standard",
    "kernelspec": {
      "display_name": "Python 3.10.6 ('space_invaders')",
      "language": "python",
      "name": "python3"
    },
    "language_info": {
      "codemirror_mode": {
        "name": "ipython",
        "version": 3
      },
      "file_extension": ".py",
      "mimetype": "text/x-python",
      "name": "python",
      "nbconvert_exporter": "python",
      "pygments_lexer": "ipython3",
      "version": "3.10.6"
    },
    "vscode": {
      "interpreter": {
        "hash": "a4b5795a0a98aa816d2d4efb43a8eece5aef2606b7666e09907cbf66eb3b9331"
      }
    }
  },
  "nbformat": 4,
  "nbformat_minor": 5
}
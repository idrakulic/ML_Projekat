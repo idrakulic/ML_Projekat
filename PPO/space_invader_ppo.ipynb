{
  "cells": [
    {
      "cell_type": "markdown",
      "metadata": {
        "id": "LN0nZwyMGadB"
      },
      "source": [
        "# Space Invader with Poximal Policy Optimization\n",
        "\n",
        "## Step 1: Import the libraries"
      ]
    },
    {
      "cell_type": "code",
      "source": [
        "# !pip install gym[atari]\n",
        "# !pip install gym[accept-rom-license]"
      ],
      "metadata": {
        "colab": {
          "base_uri": "https://localhost:8080/"
        },
        "id": "yU_PyDTk8p8H",
        "outputId": "e8b6fd25-d3f3-4421-f1c6-db6190e3c72a"
      },
      "execution_count": 1,
      "outputs": [
        {
          "output_type": "stream",
          "name": "stdout",
          "text": [
            "Looking in indexes: https://pypi.org/simple, https://us-python.pkg.dev/colab-wheels/public/simple/\n",
            "Requirement already satisfied: gym[atari] in /usr/local/lib/python3.7/dist-packages (0.25.2)\n",
            "Requirement already satisfied: numpy>=1.18.0 in /usr/local/lib/python3.7/dist-packages (from gym[atari]) (1.21.6)\n",
            "Requirement already satisfied: importlib-metadata>=4.8.0 in /usr/local/lib/python3.7/dist-packages (from gym[atari]) (4.12.0)\n",
            "Requirement already satisfied: cloudpickle>=1.2.0 in /usr/local/lib/python3.7/dist-packages (from gym[atari]) (1.5.0)\n",
            "Requirement already satisfied: gym-notices>=0.0.4 in /usr/local/lib/python3.7/dist-packages (from gym[atari]) (0.0.8)\n",
            "Collecting ale-py~=0.7.5\n",
            "  Downloading ale_py-0.7.5-cp37-cp37m-manylinux_2_17_x86_64.manylinux2014_x86_64.whl (1.6 MB)\n",
            "\u001b[K     |████████████████████████████████| 1.6 MB 9.5 MB/s \n",
            "\u001b[?25hRequirement already satisfied: importlib-resources in /usr/local/lib/python3.7/dist-packages (from ale-py~=0.7.5->gym[atari]) (5.9.0)\n",
            "Requirement already satisfied: zipp>=0.5 in /usr/local/lib/python3.7/dist-packages (from importlib-metadata>=4.8.0->gym[atari]) (3.8.1)\n",
            "Requirement already satisfied: typing-extensions>=3.6.4 in /usr/local/lib/python3.7/dist-packages (from importlib-metadata>=4.8.0->gym[atari]) (4.1.1)\n",
            "Installing collected packages: ale-py\n",
            "Successfully installed ale-py-0.7.5\n",
            "Looking in indexes: https://pypi.org/simple, https://us-python.pkg.dev/colab-wheels/public/simple/\n",
            "Requirement already satisfied: gym[accept-rom-license] in /usr/local/lib/python3.7/dist-packages (0.25.2)\n",
            "Requirement already satisfied: numpy>=1.18.0 in /usr/local/lib/python3.7/dist-packages (from gym[accept-rom-license]) (1.21.6)\n",
            "Requirement already satisfied: importlib-metadata>=4.8.0 in /usr/local/lib/python3.7/dist-packages (from gym[accept-rom-license]) (4.12.0)\n",
            "Requirement already satisfied: cloudpickle>=1.2.0 in /usr/local/lib/python3.7/dist-packages (from gym[accept-rom-license]) (1.5.0)\n",
            "Requirement already satisfied: gym-notices>=0.0.4 in /usr/local/lib/python3.7/dist-packages (from gym[accept-rom-license]) (0.0.8)\n",
            "Collecting autorom[accept-rom-license]~=0.4.2\n",
            "  Downloading AutoROM-0.4.2-py3-none-any.whl (16 kB)\n",
            "Requirement already satisfied: requests in /usr/local/lib/python3.7/dist-packages (from autorom[accept-rom-license]~=0.4.2->gym[accept-rom-license]) (2.23.0)\n",
            "Requirement already satisfied: click in /usr/local/lib/python3.7/dist-packages (from autorom[accept-rom-license]~=0.4.2->gym[accept-rom-license]) (7.1.2)\n",
            "Requirement already satisfied: importlib-resources in /usr/local/lib/python3.7/dist-packages (from autorom[accept-rom-license]~=0.4.2->gym[accept-rom-license]) (5.9.0)\n",
            "Requirement already satisfied: tqdm in /usr/local/lib/python3.7/dist-packages (from autorom[accept-rom-license]~=0.4.2->gym[accept-rom-license]) (4.64.1)\n",
            "Collecting AutoROM.accept-rom-license\n",
            "  Downloading AutoROM.accept-rom-license-0.4.2.tar.gz (9.8 kB)\n",
            "  Installing build dependencies ... \u001b[?25l\u001b[?25hdone\n",
            "  Getting requirements to build wheel ... \u001b[?25l\u001b[?25hdone\n",
            "    Preparing wheel metadata ... \u001b[?25l\u001b[?25hdone\n",
            "Requirement already satisfied: zipp>=0.5 in /usr/local/lib/python3.7/dist-packages (from importlib-metadata>=4.8.0->gym[accept-rom-license]) (3.8.1)\n",
            "Requirement already satisfied: typing-extensions>=3.6.4 in /usr/local/lib/python3.7/dist-packages (from importlib-metadata>=4.8.0->gym[accept-rom-license]) (4.1.1)\n",
            "Requirement already satisfied: urllib3!=1.25.0,!=1.25.1,<1.26,>=1.21.1 in /usr/local/lib/python3.7/dist-packages (from requests->autorom[accept-rom-license]~=0.4.2->gym[accept-rom-license]) (1.24.3)\n",
            "Requirement already satisfied: idna<3,>=2.5 in /usr/local/lib/python3.7/dist-packages (from requests->autorom[accept-rom-license]~=0.4.2->gym[accept-rom-license]) (2.10)\n",
            "Requirement already satisfied: certifi>=2017.4.17 in /usr/local/lib/python3.7/dist-packages (from requests->autorom[accept-rom-license]~=0.4.2->gym[accept-rom-license]) (2022.6.15)\n",
            "Requirement already satisfied: chardet<4,>=3.0.2 in /usr/local/lib/python3.7/dist-packages (from requests->autorom[accept-rom-license]~=0.4.2->gym[accept-rom-license]) (3.0.4)\n",
            "Building wheels for collected packages: AutoROM.accept-rom-license\n",
            "  Building wheel for AutoROM.accept-rom-license (PEP 517) ... \u001b[?25l\u001b[?25hdone\n",
            "  Created wheel for AutoROM.accept-rom-license: filename=AutoROM.accept_rom_license-0.4.2-py3-none-any.whl size=441027 sha256=baa7738cf73f81bd1f288a0822edb1c8c6f7a925a12fa1c72b45faa1003300c2\n",
            "  Stored in directory: /root/.cache/pip/wheels/87/67/2e/6147e7912fe37f5408b80d07527dab807c1d25f5c403a9538a\n",
            "Successfully built AutoROM.accept-rom-license\n",
            "Installing collected packages: AutoROM.accept-rom-license, autorom\n",
            "Successfully installed AutoROM.accept-rom-license-0.4.2 autorom-0.4.2\n"
          ]
        }
      ]
    },
    {
      "cell_type": "code",
      "execution_count": 2,
      "metadata": {
        "id": "X9nLB0P8afVc"
      },
      "outputs": [],
      "source": [
        "import time\n",
        "import gym\n",
        "import random\n",
        "import torch\n",
        "import numpy as np\n",
        "from collections import deque\n",
        "import matplotlib.pyplot as plt\n",
        "from IPython.display import clear_output\n",
        "import math\n",
        "\n",
        "%matplotlib inline"
      ]
    },
    {
      "cell_type": "code",
      "source": [
        "from google.colab import drive\n",
        "drive.mount('/content/drive')"
      ],
      "metadata": {
        "colab": {
          "base_uri": "https://localhost:8080/"
        },
        "id": "K3DImIfA8ws1",
        "outputId": "f4c010cd-0751-492b-abc2-1e24a517abd8"
      },
      "execution_count": 3,
      "outputs": [
        {
          "output_type": "stream",
          "name": "stdout",
          "text": [
            "Mounted at /content/drive\n"
          ]
        }
      ]
    },
    {
      "cell_type": "code",
      "source": [
        "import numpy as np\n",
        "import torch\n",
        "import torch.nn.functional as F\n",
        "import torch.optim as optim\n",
        "import random\n",
        "\n",
        "class PPOAgent():\n",
        "    def __init__(self, input_shape, action_size, seed, device, gamma, alpha, beta, tau, update_every, batch_size, ppo_epoch, clip_param, actor_m, critic_m):\n",
        "        \"\"\"Initialize an Agent object.\n",
        "        Params\n",
        "        ======\n",
        "            input_shape (tuple): dimension of each state (C, H, W)\n",
        "            action_size (int): dimension of each action\n",
        "            seed (int): random seed\n",
        "            device(string): Use Gpu or CPU\n",
        "            gamma (float): discount factor\n",
        "            alpha (float): Actor learning rate\n",
        "            beta (float): Critic learning rate \n",
        "            tau (float): Tau Value\n",
        "            update_every: How often to update network\n",
        "            batch_size (int): Mini Batch size to be used every epoch \n",
        "            ppo_epoch(int): Total No epoch for ppo\n",
        "            clip_param(float): Clip Paramter\n",
        "            actor_m(Model): Pytorch Actor Model\n",
        "            critic_m(Model): PyTorch Critic Model\n",
        "        \"\"\"\n",
        "        self.input_shape = input_shape\n",
        "        self.action_size = action_size\n",
        "        self.seed = random.seed(seed)\n",
        "        self.device = device\n",
        "        self.gamma = gamma\n",
        "        self.alpha = alpha\n",
        "        self.beta = beta\n",
        "        self.tau = tau\n",
        "        self.update_every = update_every\n",
        "        self.batch_size = batch_size\n",
        "        self.ppo_epoch = ppo_epoch\n",
        "        self.clip_param = clip_param\n",
        "\n",
        "        # Actor-Network\n",
        "        self.actor_net = actor_m(input_shape, action_size).to(self.device)\n",
        "        self.actor_optimizer = optim.Adam(self.actor_net.parameters(), lr=self.alpha)\n",
        "\n",
        "        # Critic-Network\n",
        "        self.critic_net = critic_m(input_shape).to(self.device)\n",
        "        self.critic_optimizer = optim.Adam(self.critic_net.parameters(), lr=self.beta)\n",
        "\n",
        "        # Memory\n",
        "        self.log_probs = []\n",
        "        self.values    = []\n",
        "        self.states    = []\n",
        "        self.actions   = []\n",
        "        self.rewards   = []\n",
        "        self.masks     = []\n",
        "        self.entropies = []\n",
        "\n",
        "        self.t_step = 0\n",
        "\n",
        "    def step(self, state, action, value, log_prob, reward, done, next_state):\n",
        "        \n",
        "        # Save experience in  memory\n",
        "        self.log_probs.append(log_prob)\n",
        "        self.values.append(value)\n",
        "        self.states.append(torch.from_numpy(state).unsqueeze(0).to(self.device))\n",
        "        self.rewards.append(torch.from_numpy(np.array([reward])).to(self.device))\n",
        "        self.actions.append(torch.from_numpy(np.array([action])).to(self.device))\n",
        "        self.masks.append(torch.from_numpy(np.array([1 - done])).to(self.device))\n",
        "\n",
        "        self.t_step = (self.t_step + 1) % self.update_every\n",
        "\n",
        "        if self.t_step == 0:\n",
        "           self.learn(next_state)\n",
        "           self.reset_memory()\n",
        "                \n",
        "    def act(self, state):\n",
        "        \"\"\"Returns action, log_prob, value for given state as per current policy.\"\"\"\n",
        "        \n",
        "        state = torch.from_numpy(state).unsqueeze(0).to(self.device)\n",
        "        action_probs = self.actor_net(state)\n",
        "        value = self.critic_net(state)\n",
        "\n",
        "        action = action_probs.sample()\n",
        "        log_prob = action_probs.log_prob(action)\n",
        "\n",
        "        return action.item(), log_prob, value\n",
        "        \n",
        "    def learn(self, next_state):\n",
        "        next_state = torch.from_numpy(next_state).unsqueeze(0).to(self.device)\n",
        "        next_value = self.critic_net(next_state)\n",
        "\n",
        "        returns        = torch.cat(self.compute_gae(next_value)).detach()\n",
        "        self.log_probs = torch.cat(self.log_probs).detach()\n",
        "        self.values    = torch.cat(self.values).detach()\n",
        "        self.states    = torch.cat(self.states)\n",
        "        self.actions   = torch.cat(self.actions)\n",
        "        advantages     = returns - self.values\n",
        "\n",
        "        for _ in range(self.ppo_epoch):\n",
        "            for state, action, old_log_probs, return_, advantage in self.ppo_iter(returns, advantages):\n",
        "\n",
        "                dist = self.actor_net(state)\n",
        "                value = self.critic_net(state)\n",
        "\n",
        "                entropy = dist.entropy().mean()\n",
        "                new_log_probs = dist.log_prob(action)\n",
        "\n",
        "                ratio = (new_log_probs - old_log_probs).exp()\n",
        "                surr1 = ratio * advantage\n",
        "                surr2 = torch.clamp(ratio, 1.0 - self.clip_param, 1.0 + self.clip_param) * advantage\n",
        "\n",
        "                actor_loss  = - torch.min(surr1, surr2).mean()\n",
        "                critic_loss = (return_ - value).pow(2).mean()\n",
        "                \n",
        "                loss = actor_loss + 0.5 * critic_loss - 0.001 * entropy\n",
        "\n",
        "                # Minimize the loss\n",
        "                self.actor_optimizer.zero_grad()\n",
        "                self.critic_optimizer.zero_grad()\n",
        "                loss.backward()\n",
        "                self.actor_optimizer.step()\n",
        "                self.critic_optimizer.step()\n",
        "\n",
        "        self.reset_memory()\n",
        "\n",
        "    \n",
        "    def ppo_iter(self, returns, advantage):\n",
        "        memory_size = self.states.size(0)\n",
        "        for _ in range(memory_size // self.batch_size):\n",
        "            rand_ids = np.random.randint(0, memory_size, self.batch_size)\n",
        "            yield self.states[rand_ids, :], self.actions[rand_ids], self.log_probs[rand_ids], returns[rand_ids, :], advantage[rand_ids, :]\n",
        "\n",
        "    def reset_memory(self):\n",
        "        self.log_probs = []\n",
        "        self.values    = []\n",
        "        self.states    = []\n",
        "        self.actions   = []\n",
        "        self.rewards   = []\n",
        "        self.masks     = []\n",
        "        self.entropies = []\n",
        "\n",
        "    def compute_gae(self, next_value):\n",
        "        gae = 0\n",
        "        returns = []\n",
        "        values = self.values + [next_value]\n",
        "        for step in reversed(range(len(self.rewards))):\n",
        "            delta = self.rewards[step] + self.gamma * values[step + 1] * self.masks[step] - values[step]\n",
        "            gae = delta + self.gamma * self.tau * self.masks[step] * gae\n",
        "            returns.insert(0, gae + values[step])\n",
        "        return returns"
      ],
      "metadata": {
        "id": "PdiQ6rLebw0I"
      },
      "execution_count": 4,
      "outputs": []
    },
    {
      "cell_type": "code",
      "execution_count": 5,
      "metadata": {
        "id": "tZUQSenMafVf"
      },
      "outputs": [],
      "source": [
        "import sys\n",
        "sys.path.append('../../')\n",
        "# from tf_agents.models import ActorCnn, CriticCnn\n",
        "# from algos.preprocessing.stack_frame import preprocess_frame, stack_frame"
      ]
    },
    {
      "cell_type": "code",
      "source": [],
      "metadata": {
        "id": "prr3dwNicDIV"
      },
      "execution_count": 5,
      "outputs": []
    },
    {
      "cell_type": "markdown",
      "metadata": {
        "id": "tfo8jleHGadK"
      },
      "source": [
        "## Step 2: Create our environment\n",
        "\n",
        "Initialize the environment in the code cell below.\n"
      ]
    },
    {
      "cell_type": "code",
      "execution_count": 6,
      "metadata": {
        "colab": {
          "base_uri": "https://localhost:8080/"
        },
        "id": "G9BA3D_QafVj",
        "outputId": "4c6613d9-01ee-4477-de9a-73e2ba5128b9"
      },
      "outputs": [
        {
          "output_type": "stream",
          "name": "stderr",
          "text": [
            "/usr/local/lib/python3.7/dist-packages/gym/envs/registration.py:594: UserWarning: \u001b[33mWARN: The environment SpaceInvaders-v0 is out of date. You should consider upgrading to version `v4`.\u001b[0m\n",
            "  f\"The environment {id} is out of date. You should consider \"\n",
            "/usr/local/lib/python3.7/dist-packages/gym/core.py:318: DeprecationWarning: \u001b[33mWARN: Initializing wrapper in old step API which returns one bool instead of two. It is recommended to set `new_step_api=True` to use new step API. This will be the default behaviour in future.\u001b[0m\n",
            "  \"Initializing wrapper in old step API which returns one bool instead of two. It is recommended to set `new_step_api=True` to use new step API. This will be the default behaviour in future.\"\n",
            "/usr/local/lib/python3.7/dist-packages/gym/wrappers/step_api_compatibility.py:40: DeprecationWarning: \u001b[33mWARN: Initializing environment in old step API which returns one bool instead of two. It is recommended to set `new_step_api=True` to use new step API. This will be the default behaviour in future.\u001b[0m\n",
            "  \"Initializing environment in old step API which returns one bool instead of two. It is recommended to set `new_step_api=True` to use new step API. This will be the default behaviour in future.\"\n"
          ]
        },
        {
          "output_type": "execute_result",
          "data": {
            "text/plain": [
              "(2968811710, 3677149159)"
            ]
          },
          "metadata": {},
          "execution_count": 6
        }
      ],
      "source": [
        "env = gym.make('SpaceInvaders-v0')\n",
        "env.seed(0)"
      ]
    },
    {
      "cell_type": "code",
      "execution_count": 7,
      "metadata": {
        "colab": {
          "base_uri": "https://localhost:8080/"
        },
        "id": "T4Z0fHDrafVk",
        "outputId": "a74d56c7-f178-4923-da19-dd78e1f00f7b"
      },
      "outputs": [
        {
          "output_type": "stream",
          "name": "stdout",
          "text": [
            "Device:  cuda\n"
          ]
        }
      ],
      "source": [
        "# if gpu is to be used\n",
        "device = torch.device(\"cuda\" if torch.cuda.is_available() else \"cpu\")\n",
        "print(\"Device: \", device)"
      ]
    },
    {
      "cell_type": "markdown",
      "metadata": {
        "id": "nS221MgXGadP"
      },
      "source": [
        "## Step 3: Viewing our Enviroment"
      ]
    },
    {
      "cell_type": "code",
      "execution_count": 8,
      "metadata": {
        "colab": {
          "base_uri": "https://localhost:8080/",
          "height": 317
        },
        "id": "OXGl-JouafVp",
        "outputId": "d0b5115d-2721-4ac4-9827-1caa34a7e2c9"
      },
      "outputs": [
        {
          "output_type": "stream",
          "name": "stdout",
          "text": [
            "The size of frame is:  (210, 160, 3)\n",
            "No. of Actions:  6\n"
          ]
        },
        {
          "output_type": "display_data",
          "data": {
            "text/plain": [
              "<Figure size 432x288 with 1 Axes>"
            ],
            "image/png": "[encoded data removed]"
          },
          "metadata": {
            "needs_background": "light"
          }
        }
      ],
      "source": [
        "print(\"The size of frame is: \", env.observation_space.shape)\n",
        "print(\"No. of Actions: \", env.action_space.n)\n",
        "env.reset()\n",
        "plt.figure()\n",
        "plt.imshow(env.reset())\n",
        "plt.title('Original Frame')\n",
        "plt.show()"
      ]
    },
    {
      "cell_type": "markdown",
      "metadata": {
        "id": "aQyNn4K8afVs"
      },
      "source": [
        "### Execute the code cell below to play Pong with a random policy."
      ]
    },
    {
      "cell_type": "code",
      "execution_count": 9,
      "metadata": {
        "colab": {
          "base_uri": "https://localhost:8080/"
        },
        "id": "GqPnQFfcafVt",
        "outputId": "7d61023b-57a3-4f0c-881d-e71163bf3b3f"
      },
      "outputs": [
        {
          "output_type": "stream",
          "name": "stderr",
          "text": [
            "/usr/local/lib/python3.7/dist-packages/gym/core.py:44: DeprecationWarning: \u001b[33mWARN: The argument mode in render method is deprecated; use render_mode during environment initialization instead.\n",
            "See here for more information: https://www.gymlibrary.ml/content/api/\u001b[0m\n",
            "  \"The argument mode in render method is deprecated; \"\n",
            "/usr/local/lib/python3.7/dist-packages/gym/utils/passive_env_checker.py:298: UserWarning: \u001b[33mWARN: No render fps was declared in the environment (env.metadata['render_fps'] is None or not defined), rendering may occur at inconsistent fps.\u001b[0m\n",
            "  \"No render fps was declared in the environment (env.metadata['render_fps'] is None or not defined), rendering may occur at inconsistent fps.\"\n",
            "/usr/local/lib/python3.7/dist-packages/gym/utils/passive_env_checker.py:228: DeprecationWarning: \u001b[33mWARN: Core environment is written in old step API which returns one bool instead of two. It is recommended to rewrite the environment with new step API. \u001b[0m\n",
            "  \"Core environment is written in old step API which returns one bool instead of two. \"\n"
          ]
        },
        {
          "output_type": "stream",
          "name": "stdout",
          "text": [
            "Your Score at end of game is:  115.0\n"
          ]
        }
      ],
      "source": [
        "def random_play():\n",
        "    score = 0\n",
        "    env.reset()\n",
        "    while True:\n",
        "        env.render(mode='rgb_array')\n",
        "        action = env.action_space.sample()\n",
        "        state, reward, done, _ = env.step(action)\n",
        "        score += reward\n",
        "        if done:\n",
        "            env.close()\n",
        "            print(\"Your Score at end of game is: \", score)\n",
        "            break\n",
        "random_play()"
      ]
    },
    {
      "cell_type": "code",
      "source": [
        "import numpy as np\n",
        "import cv2\n",
        "\n",
        "def preprocess_frame(screen, exclude, output):\n",
        "    \"\"\"Preprocess Image.\n",
        "        \n",
        "        Params\n",
        "        ======\n",
        "            screen (array): RGB Image\n",
        "            exclude (tuple): Section to be croped (UP, RIGHT, DOWN, LEFT)\n",
        "            output (int): Size of output image\n",
        "        \"\"\"\n",
        "    # TConver image to gray scale\n",
        "    screen = cv2.cvtColor(screen, cv2.COLOR_RGB2GRAY)\n",
        "    \n",
        "    #Crop screen[Up: Down, Left: right] \n",
        "    screen = screen[exclude[0]:exclude[2], exclude[3]:exclude[1]]\n",
        "    \n",
        "    # Convert to float, and normalized\n",
        "    screen = np.ascontiguousarray(screen, dtype=np.float32) / 255\n",
        "    \n",
        "    # Resize image to 84 * 84\n",
        "    screen = cv2.resize(screen, (output, output), interpolation = cv2.INTER_AREA)\n",
        "    return screen\n",
        "\n",
        "def stack_frame(stacked_frames, frame, is_new):\n",
        "    \"\"\"Stacking Frames.\n",
        "        \n",
        "        Params\n",
        "        ======\n",
        "            stacked_frames (array): Four Channel Stacked Frame\n",
        "            frame: Preprocessed Frame to be added\n",
        "            is_new: Is the state First\n",
        "        \"\"\"\n",
        "    if is_new:\n",
        "        stacked_frames = np.stack(arrays=[frame, frame, frame, frame])\n",
        "        stacked_frames = stacked_frames\n",
        "    else:\n",
        "        stacked_frames[0] = stacked_frames[1]\n",
        "        stacked_frames[1] = stacked_frames[2]\n",
        "        stacked_frames[2] = stacked_frames[3]\n",
        "        stacked_frames[3] = frame\n",
        "    \n",
        "    return stacked_frames"
      ],
      "metadata": {
        "id": "cBV3R-eOUpX8"
      },
      "execution_count": 10,
      "outputs": []
    },
    {
      "cell_type": "markdown",
      "metadata": {
        "id": "Sr52nmcpGada"
      },
      "source": [
        "## Step 4:Preprocessing Frame"
      ]
    },
    {
      "cell_type": "code",
      "execution_count": 11,
      "metadata": {
        "colab": {
          "base_uri": "https://localhost:8080/",
          "height": 281
        },
        "id": "SEvK2ENKafVw",
        "outputId": "76ec5ee2-3943-455d-c361-f6039279b9a6"
      },
      "outputs": [
        {
          "output_type": "display_data",
          "data": {
            "text/plain": [
              "<Figure size 432x288 with 1 Axes>"
            ],
            "image/png": "[encoded data removed]"
          },
          "metadata": {
            "needs_background": "light"
          }
        }
      ],
      "source": [
        "env.reset()\n",
        "plt.figure()\n",
        "plt.imshow(preprocess_frame(env.reset(), (8, -12, -12, 4), 84), cmap=\"gray\")\n",
        "plt.title('Pre Processed image')\n",
        "plt.show()"
      ]
    },
    {
      "cell_type": "markdown",
      "metadata": {
        "id": "mJMc3HA8Gade"
      },
      "source": [
        "## Step 5: Stacking Frame"
      ]
    },
    {
      "cell_type": "code",
      "execution_count": 12,
      "metadata": {
        "id": "D7reFdlgafVy"
      },
      "outputs": [],
      "source": [
        "def stack_frames(frames, state, is_new=False):\n",
        "    frame = preprocess_frame(state, (8, -12, -12, 4), 84)\n",
        "    frames = stack_frame(frames, frame, is_new)\n",
        "\n",
        "    return frames\n",
        "    "
      ]
    },
    {
      "cell_type": "code",
      "source": [
        "import torch\n",
        "import torch.nn as nn\n",
        "import torch.autograd as autograd \n",
        "import torch.nn.functional as F\n",
        "from torch.distributions import Categorical\n",
        "\n",
        "class ActorCnn(nn.Module):\n",
        "    def __init__(self, input_shape, num_actions):\n",
        "        super(ActorCnn, self).__init__()\n",
        "        self.input_shape = input_shape\n",
        "        self.num_actions = num_actions\n",
        "        \n",
        "        self.features = nn.Sequential(\n",
        "            nn.Conv2d(input_shape[0], 32, kernel_size=8, stride=4),\n",
        "            nn.ReLU(),\n",
        "            nn.Conv2d(32, 64, kernel_size=4, stride=2),\n",
        "            nn.ReLU(),\n",
        "            nn.Conv2d(64, 64, kernel_size=3, stride=1),\n",
        "            nn.ReLU()\n",
        "        )\n",
        "        \n",
        "        self.fc = nn.Sequential(\n",
        "            nn.Linear(self.feature_size(), 512),\n",
        "            nn.ReLU(),\n",
        "            nn.Linear(512, self.num_actions),\n",
        "            nn.Softmax(dim=1)\n",
        "        )\n",
        "        \n",
        "    def forward(self, x):\n",
        "        x = self.features(x)\n",
        "        x = x.view(x.size(0), -1)\n",
        "        x = self.fc(x)\n",
        "        dist = Categorical(x)\n",
        "        return dist\n",
        "    \n",
        "    def feature_size(self):\n",
        "        return self.features(autograd.Variable(torch.zeros(1, *self.input_shape))).view(1, -1).size(1)\n",
        "\n",
        "class CriticCnn(nn.Module):\n",
        "    def __init__(self, input_shape):\n",
        "        super(CriticCnn, self).__init__()\n",
        "        self.input_shape = input_shape\n",
        "        \n",
        "        self.features = nn.Sequential(\n",
        "            nn.Conv2d(input_shape[0], 32, kernel_size=8, stride=4),\n",
        "            nn.ReLU(),\n",
        "            nn.Conv2d(32, 64, kernel_size=4, stride=2),\n",
        "            nn.ReLU(),\n",
        "            nn.Conv2d(64, 64, kernel_size=3, stride=1),\n",
        "            nn.ReLU()\n",
        "        )\n",
        "        \n",
        "        self.fc = nn.Sequential(\n",
        "            nn.Linear(self.feature_size(), 512),\n",
        "            nn.ReLU(),\n",
        "            nn.Linear(512, 1)\n",
        "        )\n",
        "        \n",
        "    def forward(self, x):\n",
        "        x = self.features(x)\n",
        "        x = x.view(x.size(0), -1)\n",
        "        x = self.fc(x)\n",
        "        return x\n",
        "    \n",
        "    def feature_size(self):\n",
        "        return self.features(autograd.Variable(torch.zeros(1, *self.input_shape))).view(1, -1).size(1)"
      ],
      "metadata": {
        "id": "PpqzyuGyVELE"
      },
      "execution_count": 13,
      "outputs": []
    },
    {
      "cell_type": "markdown",
      "metadata": {
        "id": "tdjQwfBzafVz"
      },
      "source": [
        "## Step 6: Creating our Agent"
      ]
    },
    {
      "cell_type": "code",
      "execution_count": 42,
      "metadata": {
        "id": "X-NzBKJpafVz"
      },
      "outputs": [],
      "source": [
        "INPUT_SHAPE = (4, 84, 84)\n",
        "ACTION_SIZE = env.action_space.n\n",
        "SEED = 0\n",
        "GAMMA = 0.99           # discount factor\n",
        "ALPHA= 0.0001          # Actor learning rate\n",
        "BETA = 0.0001          # Critic learning rate\n",
        "TAU = 0.95\n",
        "BATCH_SIZE = 32\n",
        "PPO_EPOCH = 5\n",
        "CLIP_PARAM = 0.2\n",
        "UPDATE_EVERY = 1000     # how often to update the network \n",
        "\n",
        "with open('agent_ppo_2000.pkl', 'rb') as inp:\n",
        "    agent = pickle.load(inp)\n",
        "# agent = PPOAgent(INPUT_SHAPE, ACTION_SIZE, SEED, device, GAMMA, ALPHA, BETA, TAU, UPDATE_EVERY, BATCH_SIZE, PPO_EPOCH, CLIP_PARAM, ActorCnn, CriticCnn)"
      ]
    },
    {
      "cell_type": "markdown",
      "metadata": {
        "id": "5dONpfyzafV0"
      },
      "source": [
        "## Step 7: Watching untrained agent play"
      ]
    },
    {
      "cell_type": "code",
      "execution_count": 43,
      "metadata": {
        "id": "LMhBOrMVafV2"
      },
      "outputs": [],
      "source": [
        "\n",
        "# watch an untrained agent\n",
        "state = stack_frames(None, env.reset(), True) \n",
        "for j in range(200):\n",
        "    env.render(mode='rgb_array')\n",
        "    action, _, _ = agent.act(state)\n",
        "    next_state, reward, done, _ = env.step(action)\n",
        "    state = stack_frames(state, next_state, False)\n",
        "    if done:\n",
        "        break \n",
        "        \n",
        "env.close()"
      ]
    },
    {
      "cell_type": "markdown",
      "metadata": {
        "id": "_oUqzf1kafV2"
      },
      "source": [
        "## Step 8: Loading Agent\n",
        "Uncomment line to load a pretrained agent"
      ]
    },
    {
      "cell_type": "code",
      "execution_count": 44,
      "metadata": {
        "id": "6Pro6WUKafV2"
      },
      "outputs": [],
      "source": [
        "start_epoch = 0\n",
        "scores = []\n",
        "scores_window = deque(maxlen=20)"
      ]
    },
    {
      "cell_type": "markdown",
      "metadata": {
        "id": "nQS9nNNzafV2"
      },
      "source": [
        "## Step 9: Train the Agent with DQN"
      ]
    },
    {
      "cell_type": "code",
      "execution_count": 45,
      "metadata": {
        "id": "PDYcjhqSafV3"
      },
      "outputs": [],
      "source": [
        "def train(n_episodes=1000):\n",
        "    \"\"\"\n",
        "    Params\n",
        "    ======\n",
        "        n_episodes (int): maximum number of training episodes\n",
        "    \"\"\"\n",
        "    for i_episode in range(start_epoch + 1, n_episodes+1):\n",
        "        state = stack_frames(None, env.reset(), True)\n",
        "        score = 0\n",
        "        while True:\n",
        "            action, log_prob, value = agent.act(state)\n",
        "            next_state, reward, done, info = env.step(action)\n",
        "            score += reward\n",
        "            next_state = stack_frames(state, next_state, False)\n",
        "            agent.step(state, action, value, log_prob, reward, done, next_state)\n",
        "            if done:\n",
        "                break\n",
        "            else:\n",
        "                state = next_state\n",
        "        scores_window.append(score)       # save most recent score\n",
        "        scores.append(score)              # save most recent score\n",
        "        \n",
        "        clear_output(True)\n",
        "        fig = plt.figure()\n",
        "        ax = fig.add_subplot(111)\n",
        "        plt.plot(np.arange(len(scores)), scores)\n",
        "        plt.ylabel('Score')\n",
        "        plt.xlabel('Episode #')\n",
        "        plt.show()\n",
        "        print('\\rEpisode {}\\tAverage Score: {:.2f}'.format(i_episode, np.mean(scores_window)), end=\"\")\n",
        "    \n",
        "    return scores"
      ]
    },
    {
      "cell_type": "code",
      "execution_count": 46,
      "metadata": {
        "colab": {
          "base_uri": "https://localhost:8080/",
          "height": 299
        },
        "id": "Y7ofs0VMafV3",
        "outputId": "1fd9f8bd-fc74-4607-abfe-c812b09d19d6"
      },
      "outputs": [
        {
          "output_type": "display_data",
          "data": {
            "text/plain": [
              "<Figure size 432x288 with 1 Axes>"
            ],
            "image/png": "[encoded data removed]"
          },
          "metadata": {
            "needs_background": "light"
          }
        },
        {
          "output_type": "stream",
          "name": "stdout",
          "text": [
            "\rEpisode 1000\tAverage Score: 141.50"
          ]
        }
      ],
      "source": [
        "scores = train(1000)"
      ]
    },
    {
      "cell_type": "code",
      "execution_count": 48,
      "metadata": {
        "colab": {
          "base_uri": "https://localhost:8080/",
          "height": 281
        },
        "id": "pYPzTIQXafV5",
        "outputId": "51c48c38-98c0-461a-d64a-7142aa0ad7d9"
      },
      "outputs": [
        {
          "output_type": "display_data",
          "data": {
            "text/plain": [
              "<Figure size 432x288 with 1 Axes>"
            ],
            "image/png": "[encoded data removed]"
          },
          "metadata": {
            "needs_background": "light"
          }
        }
      ],
      "source": [
        "fig = plt.figure()\n",
        "ax = fig.add_subplot(111)\n",
        "plt.plot(np.arange(len(scores)), scores)\n",
        "plt.ylabel('Score')\n",
        "plt.xlabel('Episode #')\n",
        "plt.show()"
      ]
    },
    {
      "cell_type": "markdown",
      "metadata": {
        "id": "eedfZc6FafV5"
      },
      "source": [
        "## Step 10: Watch a Smart Agent!"
      ]
    },
    {
      "cell_type": "code",
      "execution_count": 49,
      "metadata": {
        "colab": {
          "base_uri": "https://localhost:8080/"
        },
        "id": "Nttjo72iafV6",
        "outputId": "3a03c9a6-b844-4861-8f69-633409cdcdec"
      },
      "outputs": [
        {
          "output_type": "stream",
          "name": "stderr",
          "text": [
            "/usr/local/lib/python3.7/dist-packages/gym/core.py:44: DeprecationWarning: \u001b[33mWARN: The argument mode in render method is deprecated; use render_mode during environment initialization instead.\n",
            "See here for more information: https://www.gymlibrary.ml/content/api/\u001b[0m\n",
            "  \"The argument mode in render method is deprecated; \"\n"
          ]
        },
        {
          "output_type": "stream",
          "name": "stdout",
          "text": [
            "You Final score is: 210.0\n"
          ]
        }
      ],
      "source": [
        "score = 0\n",
        "state = stack_frames(None, env.reset(), True)\n",
        "while True:\n",
        "    env.render(mode='rgb_array')\n",
        "    action, _, _ = agent.act(state)\n",
        "    next_state, reward, done, _ = env.step(action)\n",
        "    score += reward\n",
        "    state = stack_frames(state, next_state, False)\n",
        "    if done:\n",
        "        print(\"You Final score is:\", score)\n",
        "        break \n",
        "env.close()"
      ]
    },
    {
      "cell_type": "code",
      "source": [
        "import pickle\n",
        "with open('agent_ppo_3000.pkl', 'wb') as outp:\n",
        "    pickle.dump(agent, outp, pickle.HIGHEST_PROTOCOL)"
      ],
      "metadata": {
        "id": "OjjyT2rr21ZD"
      },
      "execution_count": 51,
      "outputs": []
    },
    {
      "cell_type": "code",
      "source": [
        "# with open('agent_ppo_1000.pkl', 'rb') as inp:\n",
        "#     agent1 = pickle.load(inp)\n"
      ],
      "metadata": {
        "colab": {
          "base_uri": "https://localhost:8080/",
          "height": 187
        },
        "id": "sEL11tSyhA1a",
        "outputId": "5c330ece-5b48-47ed-f2b1-8da67b14752a"
      },
      "execution_count": null,
      "outputs": [
        {
          "output_type": "error",
          "ename": "EOFError",
          "evalue": "ignored",
          "traceback": [
            "\u001b[0;31m---------------------------------------------------------------------------\u001b[0m",
            "\u001b[0;31mEOFError\u001b[0m                                  Traceback (most recent call last)",
            "\u001b[0;32m<ipython-input-6-d114b634410d>\u001b[0m in \u001b[0;36m<module>\u001b[0;34m\u001b[0m\n\u001b[1;32m      1\u001b[0m \u001b[0;32mwith\u001b[0m \u001b[0mopen\u001b[0m\u001b[0;34m(\u001b[0m\u001b[0;34m'agent_ppo_1000.pkl'\u001b[0m\u001b[0;34m,\u001b[0m \u001b[0;34m'rb'\u001b[0m\u001b[0;34m)\u001b[0m \u001b[0;32mas\u001b[0m \u001b[0minp\u001b[0m\u001b[0;34m:\u001b[0m\u001b[0;34m\u001b[0m\u001b[0;34m\u001b[0m\u001b[0m\n\u001b[0;32m----> 2\u001b[0;31m     \u001b[0magent1\u001b[0m \u001b[0;34m=\u001b[0m \u001b[0mpickle\u001b[0m\u001b[0;34m.\u001b[0m\u001b[0mload\u001b[0m\u001b[0;34m(\u001b[0m\u001b[0minp\u001b[0m\u001b[0;34m)\u001b[0m\u001b[0;34m\u001b[0m\u001b[0;34m\u001b[0m\u001b[0m\n\u001b[0m",
            "\u001b[0;31mEOFError\u001b[0m: Ran out of input"
          ]
        }
      ]
    },
    {
      "cell_type": "markdown",
      "source": [
        "# **Video snimak jedne epizode**"
      ],
      "metadata": {
        "id": "OfAX7ZJj_Ovp"
      }
    },
    {
      "cell_type": "code",
      "source": [
        "import cv2\n",
        "# import os\n",
        "from PIL import Image\n",
        "\n",
        "score = 0\n",
        "video_name = 'video2.avi'\n",
        "\n",
        "height, width, frames_per_second = 210,160,10\n",
        "\n",
        "# video = cv2.VideoWriter(video_name, 0, 1, (width,height))\n",
        "video_writer = cv2.VideoWriter('video.mp4', fourcc=cv2.VideoWriter_fourcc(*\"mp4v\"), fps=float(frames_per_second), frameSize=(width, height), isColor=True)\n",
        "images = []\n",
        "state = stack_frames(None, env.reset(), True)\n",
        "while True:\n",
        "    action, _, _ = agent.act(state)\n",
        "    next_state, reward, done, _ = env.step(action)\n",
        "    score += reward\n",
        "    state = stack_frames(state, next_state, False)\n",
        "    images.append(next_state)\n",
        "    # image = Image.fromarray(next_state)\n",
        "    frame = cv2.cvtColor(next_state, cv2.COLOR_RGB2BGR)\n",
        "    video_writer.write(frame)\n",
        "    if done:\n",
        "        print(\"Score is:\", score)\n",
        "        break \n",
        "env.close()\n",
        "cv2.destroyAllWindows()\n",
        "video_writer.release()\n"
      ],
      "metadata": {
        "colab": {
          "base_uri": "https://localhost:8080/"
        },
        "id": "VNb3EpreTZNf",
        "outputId": "c4ea6c38-edf3-41de-b6f9-1c5fa9847967"
      },
      "execution_count": 76,
      "outputs": [
        {
          "output_type": "stream",
          "name": "stdout",
          "text": [
            "Score is: 305.0\n"
          ]
        }
      ]
    },
    {
      "cell_type": "markdown",
      "source": [
        "# **Testiranje na 30 epizoda**"
      ],
      "metadata": {
        "id": "lWQwH8wg_jSV"
      }
    },
    {
      "cell_type": "code",
      "source": [
        "import tqdm\n",
        "test_scores = []\n",
        "BROJ_EPIZODA =30\n",
        "for i in tqdm.tqdm(range(BROJ_EPIZODA)):\n",
        "    state = stack_frames(None, env.reset(), True)\n",
        "    done = False\n",
        "    score = 0\n",
        "    while not done:\n",
        "        action, _, _ = agent.act(state)\n",
        "        next_state, reward, done, _ = env.step(action)\n",
        "        score += reward\n",
        "        state = stack_frames(state, next_state, False)\n",
        "        if done:\n",
        "            print(\"You Final score is:\", score)\n",
        "            break \n",
        "    test_scores.append(score)\n",
        "    print(f\"score{score}\")"
      ],
      "metadata": {
        "colab": {
          "base_uri": "https://localhost:8080/"
        },
        "id": "icGVFE4LeLse",
        "outputId": "26c1783b-cef7-4007-c3f9-6ddc60d65d4f"
      },
      "execution_count": 81,
      "outputs": [
        {
          "output_type": "stream",
          "name": "stderr",
          "text": [
            "  3%|▎         | 1/30 [00:01<00:34,  1.18s/it]"
          ]
        },
        {
          "output_type": "stream",
          "name": "stdout",
          "text": [
            "You Final score is: 80.0\n",
            "score80.0\n"
          ]
        },
        {
          "output_type": "stream",
          "name": "stderr",
          "text": [
            "\r  7%|▋         | 2/30 [00:02<00:35,  1.27s/it]"
          ]
        },
        {
          "output_type": "stream",
          "name": "stdout",
          "text": [
            "You Final score is: 105.0\n",
            "score105.0\n"
          ]
        },
        {
          "output_type": "stream",
          "name": "stderr",
          "text": [
            "\r 10%|█         | 3/30 [00:04<00:37,  1.40s/it]"
          ]
        },
        {
          "output_type": "stream",
          "name": "stdout",
          "text": [
            "You Final score is: 45.0\n",
            "score45.0\n"
          ]
        },
        {
          "output_type": "stream",
          "name": "stderr",
          "text": [
            "\r 13%|█▎        | 4/30 [00:06<00:44,  1.70s/it]"
          ]
        },
        {
          "output_type": "stream",
          "name": "stdout",
          "text": [
            "You Final score is: 210.0\n",
            "score210.0\n"
          ]
        },
        {
          "output_type": "stream",
          "name": "stderr",
          "text": [
            "\r 17%|█▋        | 5/30 [00:08<00:45,  1.81s/it]"
          ]
        },
        {
          "output_type": "stream",
          "name": "stdout",
          "text": [
            "You Final score is: 410.0\n",
            "score410.0\n"
          ]
        },
        {
          "output_type": "stream",
          "name": "stderr",
          "text": [
            "\r 20%|██        | 6/30 [00:09<00:39,  1.64s/it]"
          ]
        },
        {
          "output_type": "stream",
          "name": "stdout",
          "text": [
            "You Final score is: 65.0\n",
            "score65.0\n"
          ]
        },
        {
          "output_type": "stream",
          "name": "stderr",
          "text": [
            "\r 23%|██▎       | 7/30 [00:10<00:33,  1.45s/it]"
          ]
        },
        {
          "output_type": "stream",
          "name": "stdout",
          "text": [
            "You Final score is: 40.0\n",
            "score40.0\n"
          ]
        },
        {
          "output_type": "stream",
          "name": "stderr",
          "text": [
            "\r 27%|██▋       | 8/30 [00:12<00:33,  1.54s/it]"
          ]
        },
        {
          "output_type": "stream",
          "name": "stdout",
          "text": [
            "You Final score is: 110.0\n",
            "score110.0\n"
          ]
        },
        {
          "output_type": "stream",
          "name": "stderr",
          "text": [
            "\r 30%|███       | 9/30 [00:14<00:34,  1.63s/it]"
          ]
        },
        {
          "output_type": "stream",
          "name": "stdout",
          "text": [
            "You Final score is: 150.0\n",
            "score150.0\n"
          ]
        },
        {
          "output_type": "stream",
          "name": "stderr",
          "text": [
            "\r 33%|███▎      | 10/30 [00:15<00:33,  1.69s/it]"
          ]
        },
        {
          "output_type": "stream",
          "name": "stdout",
          "text": [
            "You Final score is: 180.0\n",
            "score180.0\n"
          ]
        },
        {
          "output_type": "stream",
          "name": "stderr",
          "text": [
            "\r 37%|███▋      | 11/30 [00:19<00:41,  2.17s/it]"
          ]
        },
        {
          "output_type": "stream",
          "name": "stdout",
          "text": [
            "You Final score is: 320.0\n",
            "score320.0\n"
          ]
        },
        {
          "output_type": "stream",
          "name": "stderr",
          "text": [
            "\r 40%|████      | 12/30 [00:20<00:36,  2.00s/it]"
          ]
        },
        {
          "output_type": "stream",
          "name": "stdout",
          "text": [
            "You Final score is: 130.0\n",
            "score130.0\n"
          ]
        },
        {
          "output_type": "stream",
          "name": "stderr",
          "text": [
            "\r 43%|████▎     | 13/30 [00:22<00:29,  1.75s/it]"
          ]
        },
        {
          "output_type": "stream",
          "name": "stdout",
          "text": [
            "You Final score is: 125.0\n",
            "score125.0\n"
          ]
        },
        {
          "output_type": "stream",
          "name": "stderr",
          "text": [
            "\r 47%|████▋     | 14/30 [00:23<00:25,  1.57s/it]"
          ]
        },
        {
          "output_type": "stream",
          "name": "stdout",
          "text": [
            "You Final score is: 65.0\n",
            "score65.0\n"
          ]
        },
        {
          "output_type": "stream",
          "name": "stderr",
          "text": [
            "\r 50%|█████     | 15/30 [00:25<00:28,  1.92s/it]"
          ]
        },
        {
          "output_type": "stream",
          "name": "stdout",
          "text": [
            "You Final score is: 390.0\n",
            "score390.0\n"
          ]
        },
        {
          "output_type": "stream",
          "name": "stderr",
          "text": [
            "\r 53%|█████▎    | 16/30 [00:26<00:22,  1.60s/it]"
          ]
        },
        {
          "output_type": "stream",
          "name": "stdout",
          "text": [
            "You Final score is: 40.0\n",
            "score40.0\n"
          ]
        },
        {
          "output_type": "stream",
          "name": "stderr",
          "text": [
            "\r 57%|█████▋    | 17/30 [00:28<00:21,  1.67s/it]"
          ]
        },
        {
          "output_type": "stream",
          "name": "stdout",
          "text": [
            "You Final score is: 105.0\n",
            "score105.0\n"
          ]
        },
        {
          "output_type": "stream",
          "name": "stderr",
          "text": [
            "\r 60%|██████    | 18/30 [00:29<00:17,  1.45s/it]"
          ]
        },
        {
          "output_type": "stream",
          "name": "stdout",
          "text": [
            "You Final score is: 10.0\n",
            "score10.0\n"
          ]
        },
        {
          "output_type": "stream",
          "name": "stderr",
          "text": [
            "\r 63%|██████▎   | 19/30 [00:31<00:17,  1.58s/it]"
          ]
        },
        {
          "output_type": "stream",
          "name": "stdout",
          "text": [
            "You Final score is: 180.0\n",
            "score180.0\n"
          ]
        },
        {
          "output_type": "stream",
          "name": "stderr",
          "text": [
            "\r 67%|██████▋   | 20/30 [00:35<00:21,  2.20s/it]"
          ]
        },
        {
          "output_type": "stream",
          "name": "stdout",
          "text": [
            "You Final score is: 515.0\n",
            "score515.0\n"
          ]
        },
        {
          "output_type": "stream",
          "name": "stderr",
          "text": [
            "\r 70%|███████   | 21/30 [00:36<00:17,  1.98s/it]"
          ]
        },
        {
          "output_type": "stream",
          "name": "stdout",
          "text": [
            "You Final score is: 45.0\n",
            "score45.0\n"
          ]
        },
        {
          "output_type": "stream",
          "name": "stderr",
          "text": [
            "\r 73%|███████▎  | 22/30 [00:38<00:15,  1.88s/it]"
          ]
        },
        {
          "output_type": "stream",
          "name": "stdout",
          "text": [
            "You Final score is: 155.0\n",
            "score155.0\n"
          ]
        },
        {
          "output_type": "stream",
          "name": "stderr",
          "text": [
            "\r 77%|███████▋  | 23/30 [00:40<00:13,  1.91s/it]"
          ]
        },
        {
          "output_type": "stream",
          "name": "stdout",
          "text": [
            "You Final score is: 160.0\n",
            "score160.0\n"
          ]
        },
        {
          "output_type": "stream",
          "name": "stderr",
          "text": [
            "\r 80%|████████  | 24/30 [00:42<00:11,  1.96s/it]"
          ]
        },
        {
          "output_type": "stream",
          "name": "stdout",
          "text": [
            "You Final score is: 110.0\n",
            "score110.0\n"
          ]
        },
        {
          "output_type": "stream",
          "name": "stderr",
          "text": [
            "\r 83%|████████▎ | 25/30 [00:43<00:09,  1.82s/it]"
          ]
        },
        {
          "output_type": "stream",
          "name": "stdout",
          "text": [
            "You Final score is: 120.0\n",
            "score120.0\n"
          ]
        },
        {
          "output_type": "stream",
          "name": "stderr",
          "text": [
            "\r 87%|████████▋ | 26/30 [00:45<00:07,  1.83s/it]"
          ]
        },
        {
          "output_type": "stream",
          "name": "stdout",
          "text": [
            "You Final score is: 125.0\n",
            "score125.0\n"
          ]
        },
        {
          "output_type": "stream",
          "name": "stderr",
          "text": [
            "\r 90%|█████████ | 27/30 [00:47<00:05,  1.92s/it]"
          ]
        },
        {
          "output_type": "stream",
          "name": "stdout",
          "text": [
            "You Final score is: 245.0\n",
            "score245.0\n"
          ]
        },
        {
          "output_type": "stream",
          "name": "stderr",
          "text": [
            "\r 93%|█████████▎| 28/30 [00:49<00:03,  1.96s/it]"
          ]
        },
        {
          "output_type": "stream",
          "name": "stdout",
          "text": [
            "You Final score is: 135.0\n",
            "score135.0\n"
          ]
        },
        {
          "output_type": "stream",
          "name": "stderr",
          "text": [
            "\r 97%|█████████▋| 29/30 [00:51<00:01,  1.83s/it]"
          ]
        },
        {
          "output_type": "stream",
          "name": "stdout",
          "text": [
            "You Final score is: 105.0\n",
            "score105.0\n"
          ]
        },
        {
          "output_type": "stream",
          "name": "stderr",
          "text": [
            "100%|██████████| 30/30 [00:53<00:00,  1.77s/it]"
          ]
        },
        {
          "output_type": "stream",
          "name": "stdout",
          "text": [
            "You Final score is: 210.0\n",
            "score210.0\n"
          ]
        },
        {
          "output_type": "stream",
          "name": "stderr",
          "text": [
            "\n"
          ]
        }
      ]
    },
    {
      "cell_type": "code",
      "source": [
        "import pandas as pd\n",
        "s_test = pd.Series(test_scores)\n",
        "print(s_test.describe())\n",
        "plt.plot(range(BROJ_EPIZODA), s_test)"
      ],
      "metadata": {
        "id": "hzQeDqlD3yDt",
        "colab": {
          "base_uri": "https://localhost:8080/",
          "height": 443
        },
        "outputId": "954376ee-1433-4666-dea3-f451c79c7aac"
      },
      "execution_count": 84,
      "outputs": [
        {
          "output_type": "stream",
          "name": "stdout",
          "text": [
            "count     30.000000\n",
            "mean     156.166667\n",
            "std      117.676378\n",
            "min       10.000000\n",
            "25%       86.250000\n",
            "50%      125.000000\n",
            "75%      180.000000\n",
            "max      515.000000\n",
            "dtype: float64\n"
          ]
        },
        {
          "output_type": "execute_result",
          "data": {
            "text/plain": [
              "[<matplotlib.lines.Line2D at 0x7fd0be0a5810>]"
            ]
          },
          "metadata": {},
          "execution_count": 84
        },
        {
          "output_type": "display_data",
          "data": {
            "text/plain": [
              "<Figure size 432x288 with 1 Axes>"
            ],
            "image/png": "[encoded data removed]"
          },
          "metadata": {
            "needs_background": "light"
          }
        }
      ]
    },
    {
      "cell_type": "code",
      "source": [
        "from google.colab import files\n",
        "import pandas as pd\n",
        "s = pd.Series(test_scores)\n",
        "s.describe()\n",
        "s.to_csv('test_scores.csv')\n",
        "files.download('test_scores.csv')\n",
        "\n"
      ],
      "metadata": {
        "colab": {
          "base_uri": "https://localhost:8080/",
          "height": 17
        },
        "id": "R1ocq7EkQRds",
        "outputId": "a92fa6c6-2cb4-4188-d55e-52e0f9a126d9"
      },
      "execution_count": 85,
      "outputs": [
        {
          "output_type": "display_data",
          "data": {
            "text/plain": [
              "<IPython.core.display.Javascript object>"
            ],
            "application/javascript": [
              "\n",
              "    async function download(id, filename, size) {\n",
              "      if (!google.colab.kernel.accessAllowed) {\n",
              "        return;\n",
              "      }\n",
              "      const div = document.createElement('div');\n",
              "      const label = document.createElement('label');\n",
              "      label.textContent = `Downloading \"${filename}\": `;\n",
              "      div.appendChild(label);\n",
              "      const progress = document.createElement('progress');\n",
              "      progress.max = size;\n",
              "      div.appendChild(progress);\n",
              "      document.body.appendChild(div);\n",
              "\n",
              "      const buffers = [];\n",
              "      let downloaded = 0;\n",
              "\n",
              "      const channel = await google.colab.kernel.comms.open(id);\n",
              "      // Send a message to notify the kernel that we're ready.\n",
              "      channel.send({})\n",
              "\n",
              "      for await (const message of channel.messages) {\n",
              "        // Send a message to notify the kernel that we're ready.\n",
              "        channel.send({})\n",
              "        if (message.buffers) {\n",
              "          for (const buffer of message.buffers) {\n",
              "            buffers.push(buffer);\n",
              "            downloaded += buffer.byteLength;\n",
              "            progress.value = downloaded;\n",
              "          }\n",
              "        }\n",
              "      }\n",
              "      const blob = new Blob(buffers, {type: 'application/binary'});\n",
              "      const a = document.createElement('a');\n",
              "      a.href = window.URL.createObjectURL(blob);\n",
              "      a.download = filename;\n",
              "      div.appendChild(a);\n",
              "      a.click();\n",
              "      div.remove();\n",
              "    }\n",
              "  "
            ]
          },
          "metadata": {}
        },
        {
          "output_type": "display_data",
          "data": {
            "text/plain": [
              "<IPython.core.display.Javascript object>"
            ],
            "application/javascript": [
              "download(\"download_494da194-c001-4777-b5ea-961d5022e9d6\", \"test_scores.csv\", 255)"
            ]
          },
          "metadata": {}
        }
      ]
    },
    {
      "cell_type": "code",
      "source": [],
      "metadata": {
        "id": "aDnLtjgiU0oq"
      },
      "execution_count": null,
      "outputs": []
    },
    {
      "cell_type": "code",
      "source": [],
      "metadata": {
        "id": "iRul6di7QWRq"
      },
      "execution_count": null,
      "outputs": []
    },
    {
      "cell_type": "code",
      "source": [],
      "metadata": {
        "id": "JHLcBDKIQa8U"
      },
      "execution_count": null,
      "outputs": []
    }
  ],
  "metadata": {
    "accelerator": "GPU",
    "colab": {
      "collapsed_sections": [],
      "provenance": []
    },
    "kernelspec": {
      "display_name": "Python 3",
      "language": "python",
      "name": "python3"
    },
    "language_info": {
      "codemirror_mode": {
        "name": "ipython",
        "version": 3
      },
      "file_extension": ".py",
      "mimetype": "text/x-python",
      "name": "python",
      "nbconvert_exporter": "python",
      "pygments_lexer": "ipython3",
      "version": "3.7.6-final"
    }
  },
  "nbformat": 4,
  "nbformat_minor": 0
}